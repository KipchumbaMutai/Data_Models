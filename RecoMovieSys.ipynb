{
 "cells": [
  {
   "cell_type": "code",
   "execution_count": 59,
   "metadata": {},
   "outputs": [],
   "source": [
    "import pandas as pd\n",
    "import matplotlib.pyplot as plt\n",
    "from rake_nltk import Rake\n",
    "import numpy as np\n",
    "from sklearn.metrics.pairwise import cosine_similarity\n",
    "from sklearn.feature_extraction.text import CountVectorizer\n"
   ]
  },
  {
   "cell_type": "markdown",
   "metadata": {},
   "source": [
    "## Read the data"
   ]
  },
  {
   "cell_type": "code",
   "execution_count": 60,
   "metadata": {},
   "outputs": [],
   "source": [
    "df = pd.read_csv(\"https://query.data.world/s/uikepcpffyo2nhig52xxeevdialfl7\")"
   ]
  },
  {
   "cell_type": "markdown",
   "metadata": {},
   "source": [
    "### Getting the relevant features for processing"
   ]
  },
  {
   "cell_type": "code",
   "execution_count": 61,
   "metadata": {},
   "outputs": [],
   "source": [
    "df = df[['Title','Genre','Director','Actors','Plot']]"
   ]
  },
  {
   "cell_type": "code",
   "execution_count": 62,
   "metadata": {},
   "outputs": [
    {
     "data": {
      "text/html": [
       "<div>\n",
       "<style scoped>\n",
       "    .dataframe tbody tr th:only-of-type {\n",
       "        vertical-align: middle;\n",
       "    }\n",
       "\n",
       "    .dataframe tbody tr th {\n",
       "        vertical-align: top;\n",
       "    }\n",
       "\n",
       "    .dataframe thead th {\n",
       "        text-align: right;\n",
       "    }\n",
       "</style>\n",
       "<table border=\"1\" class=\"dataframe\">\n",
       "  <thead>\n",
       "    <tr style=\"text-align: right;\">\n",
       "      <th></th>\n",
       "      <th>Title</th>\n",
       "      <th>Genre</th>\n",
       "      <th>Director</th>\n",
       "      <th>Actors</th>\n",
       "      <th>Plot</th>\n",
       "    </tr>\n",
       "  </thead>\n",
       "  <tbody>\n",
       "    <tr>\n",
       "      <th>0</th>\n",
       "      <td>The Shawshank Redemption</td>\n",
       "      <td>Crime, Drama</td>\n",
       "      <td>Frank Darabont</td>\n",
       "      <td>Tim Robbins, Morgan Freeman, Bob Gunton, Willi...</td>\n",
       "      <td>Two imprisoned men bond over a number of years...</td>\n",
       "    </tr>\n",
       "    <tr>\n",
       "      <th>1</th>\n",
       "      <td>The Godfather</td>\n",
       "      <td>Crime, Drama</td>\n",
       "      <td>Francis Ford Coppola</td>\n",
       "      <td>Marlon Brando, Al Pacino, James Caan, Richard ...</td>\n",
       "      <td>The aging patriarch of an organized crime dyna...</td>\n",
       "    </tr>\n",
       "    <tr>\n",
       "      <th>2</th>\n",
       "      <td>The Godfather: Part II</td>\n",
       "      <td>Crime, Drama</td>\n",
       "      <td>Francis Ford Coppola</td>\n",
       "      <td>Al Pacino, Robert Duvall, Diane Keaton, Robert...</td>\n",
       "      <td>The early life and career of Vito Corleone in ...</td>\n",
       "    </tr>\n",
       "    <tr>\n",
       "      <th>3</th>\n",
       "      <td>The Dark Knight</td>\n",
       "      <td>Action, Crime, Drama</td>\n",
       "      <td>Christopher Nolan</td>\n",
       "      <td>Christian Bale, Heath Ledger, Aaron Eckhart, M...</td>\n",
       "      <td>When the menace known as the Joker emerges fro...</td>\n",
       "    </tr>\n",
       "    <tr>\n",
       "      <th>4</th>\n",
       "      <td>12 Angry Men</td>\n",
       "      <td>Crime, Drama</td>\n",
       "      <td>Sidney Lumet</td>\n",
       "      <td>Martin Balsam, John Fiedler, Lee J. Cobb, E.G....</td>\n",
       "      <td>A jury holdout attempts to prevent a miscarria...</td>\n",
       "    </tr>\n",
       "  </tbody>\n",
       "</table>\n",
       "</div>"
      ],
      "text/plain": [
       "                      Title                 Genre              Director  \\\n",
       "0  The Shawshank Redemption          Crime, Drama        Frank Darabont   \n",
       "1             The Godfather          Crime, Drama  Francis Ford Coppola   \n",
       "2    The Godfather: Part II          Crime, Drama  Francis Ford Coppola   \n",
       "3           The Dark Knight  Action, Crime, Drama     Christopher Nolan   \n",
       "4              12 Angry Men          Crime, Drama          Sidney Lumet   \n",
       "\n",
       "                                              Actors  \\\n",
       "0  Tim Robbins, Morgan Freeman, Bob Gunton, Willi...   \n",
       "1  Marlon Brando, Al Pacino, James Caan, Richard ...   \n",
       "2  Al Pacino, Robert Duvall, Diane Keaton, Robert...   \n",
       "3  Christian Bale, Heath Ledger, Aaron Eckhart, M...   \n",
       "4  Martin Balsam, John Fiedler, Lee J. Cobb, E.G....   \n",
       "\n",
       "                                                Plot  \n",
       "0  Two imprisoned men bond over a number of years...  \n",
       "1  The aging patriarch of an organized crime dyna...  \n",
       "2  The early life and career of Vito Corleone in ...  \n",
       "3  When the menace known as the Joker emerges fro...  \n",
       "4  A jury holdout attempts to prevent a miscarria...  "
      ]
     },
     "execution_count": 62,
     "metadata": {},
     "output_type": "execute_result"
    }
   ],
   "source": [
    "df.head()"
   ]
  },
  {
   "cell_type": "code",
   "execution_count": 63,
   "metadata": {},
   "outputs": [
    {
     "data": {
      "text/html": [
       "<div>\n",
       "<style scoped>\n",
       "    .dataframe tbody tr th:only-of-type {\n",
       "        vertical-align: middle;\n",
       "    }\n",
       "\n",
       "    .dataframe tbody tr th {\n",
       "        vertical-align: top;\n",
       "    }\n",
       "\n",
       "    .dataframe thead th {\n",
       "        text-align: right;\n",
       "    }\n",
       "</style>\n",
       "<table border=\"1\" class=\"dataframe\">\n",
       "  <thead>\n",
       "    <tr style=\"text-align: right;\">\n",
       "      <th></th>\n",
       "      <th>Title</th>\n",
       "      <th>Genre</th>\n",
       "      <th>Director</th>\n",
       "      <th>Actors</th>\n",
       "      <th>Plot</th>\n",
       "    </tr>\n",
       "  </thead>\n",
       "  <tbody>\n",
       "    <tr>\n",
       "      <th>245</th>\n",
       "      <td>The Lost Weekend</td>\n",
       "      <td>Drama, Film-Noir</td>\n",
       "      <td>Billy Wilder</td>\n",
       "      <td>Ray Milland, Jane Wyman, Phillip Terry, Howard...</td>\n",
       "      <td>The desperate life of a chronic alcoholic is f...</td>\n",
       "    </tr>\n",
       "    <tr>\n",
       "      <th>246</th>\n",
       "      <td>Short Term 12</td>\n",
       "      <td>Drama</td>\n",
       "      <td>Destin Daniel Cretton</td>\n",
       "      <td>Brie Larson, John Gallagher Jr., Stephanie Bea...</td>\n",
       "      <td>A 20-something supervising staff member of a r...</td>\n",
       "    </tr>\n",
       "    <tr>\n",
       "      <th>247</th>\n",
       "      <td>His Girl Friday</td>\n",
       "      <td>Comedy, Drama, Romance</td>\n",
       "      <td>Howard Hawks</td>\n",
       "      <td>Cary Grant, Rosalind Russell, Ralph Bellamy, G...</td>\n",
       "      <td>A newspaper editor uses every trick in the boo...</td>\n",
       "    </tr>\n",
       "    <tr>\n",
       "      <th>248</th>\n",
       "      <td>The Straight Story</td>\n",
       "      <td>Biography, Drama</td>\n",
       "      <td>David Lynch</td>\n",
       "      <td>Sissy Spacek, Jane Galloway Heitz, Joseph A. C...</td>\n",
       "      <td>An old man makes a long journey by lawn-mover ...</td>\n",
       "    </tr>\n",
       "    <tr>\n",
       "      <th>249</th>\n",
       "      <td>Slumdog Millionaire</td>\n",
       "      <td>Drama</td>\n",
       "      <td>Danny Boyle, Loveleen Tandan</td>\n",
       "      <td>Dev Patel, Saurabh Shukla, Anil Kapoor, Raj Zu...</td>\n",
       "      <td>A Mumbai teen reflects on his upbringing in th...</td>\n",
       "    </tr>\n",
       "  </tbody>\n",
       "</table>\n",
       "</div>"
      ],
      "text/plain": [
       "                   Title                   Genre  \\\n",
       "245     The Lost Weekend        Drama, Film-Noir   \n",
       "246        Short Term 12                   Drama   \n",
       "247      His Girl Friday  Comedy, Drama, Romance   \n",
       "248   The Straight Story        Biography, Drama   \n",
       "249  Slumdog Millionaire                   Drama   \n",
       "\n",
       "                         Director  \\\n",
       "245                  Billy Wilder   \n",
       "246         Destin Daniel Cretton   \n",
       "247                  Howard Hawks   \n",
       "248                   David Lynch   \n",
       "249  Danny Boyle, Loveleen Tandan   \n",
       "\n",
       "                                                Actors  \\\n",
       "245  Ray Milland, Jane Wyman, Phillip Terry, Howard...   \n",
       "246  Brie Larson, John Gallagher Jr., Stephanie Bea...   \n",
       "247  Cary Grant, Rosalind Russell, Ralph Bellamy, G...   \n",
       "248  Sissy Spacek, Jane Galloway Heitz, Joseph A. C...   \n",
       "249  Dev Patel, Saurabh Shukla, Anil Kapoor, Raj Zu...   \n",
       "\n",
       "                                                  Plot  \n",
       "245  The desperate life of a chronic alcoholic is f...  \n",
       "246  A 20-something supervising staff member of a r...  \n",
       "247  A newspaper editor uses every trick in the boo...  \n",
       "248  An old man makes a long journey by lawn-mover ...  \n",
       "249  A Mumbai teen reflects on his upbringing in th...  "
      ]
     },
     "execution_count": 63,
     "metadata": {},
     "output_type": "execute_result"
    }
   ],
   "source": [
    "df.tail()"
   ]
  },
  {
   "cell_type": "code",
   "execution_count": 64,
   "metadata": {},
   "outputs": [
    {
     "name": "stdout",
     "output_type": "stream",
     "text": [
      "<class 'pandas.core.frame.DataFrame'>\n",
      "RangeIndex: 250 entries, 0 to 249\n",
      "Data columns (total 5 columns):\n",
      "Title       250 non-null object\n",
      "Genre       250 non-null object\n",
      "Director    250 non-null object\n",
      "Actors      250 non-null object\n",
      "Plot        250 non-null object\n",
      "dtypes: object(5)\n",
      "memory usage: 9.9+ KB\n"
     ]
    }
   ],
   "source": [
    "df.info()"
   ]
  },
  {
   "cell_type": "code",
   "execution_count": 65,
   "metadata": {},
   "outputs": [
    {
     "data": {
      "text/plain": [
       "Title       0\n",
       "Genre       0\n",
       "Director    0\n",
       "Actors      0\n",
       "Plot        0\n",
       "dtype: int64"
      ]
     },
     "execution_count": 65,
     "metadata": {},
     "output_type": "execute_result"
    }
   ],
   "source": [
    "df.isnull().sum()"
   ]
  },
  {
   "cell_type": "markdown",
   "metadata": {},
   "source": [
    "## Data Cleaning"
   ]
  },
  {
   "cell_type": "code",
   "execution_count": 66,
   "metadata": {},
   "outputs": [],
   "source": [
    "## initialize a new column \n",
    "df['KeyWords'] =''\n",
    "for index,row in df.iterrows():\n",
    "    plot = row['Plot']\n",
    "## instantiate Rake\n",
    "    r=Rake()\n",
    "## Extract the keywords by passing a text\n",
    "    r.extract_keywords_from_text(plot)\n",
    "## get a dictionary with keywords as keys and scores as values\n",
    "    key_words_dic_scores = r.get_word_degrees()\n",
    "## Assign the Keywords to the newly created column of respective movies\n",
    "    row['Key_words']= list(key_words_dic_scores.keys())\n",
    "## drop the plot column\n",
    "df.drop(columns='Plot',inplace=True)"
   ]
  },
  {
   "cell_type": "code",
   "execution_count": 67,
   "metadata": {},
   "outputs": [
    {
     "data": {
      "text/html": [
       "<div>\n",
       "<style scoped>\n",
       "    .dataframe tbody tr th:only-of-type {\n",
       "        vertical-align: middle;\n",
       "    }\n",
       "\n",
       "    .dataframe tbody tr th {\n",
       "        vertical-align: top;\n",
       "    }\n",
       "\n",
       "    .dataframe thead th {\n",
       "        text-align: right;\n",
       "    }\n",
       "</style>\n",
       "<table border=\"1\" class=\"dataframe\">\n",
       "  <thead>\n",
       "    <tr style=\"text-align: right;\">\n",
       "      <th></th>\n",
       "      <th>Title</th>\n",
       "      <th>Genre</th>\n",
       "      <th>Director</th>\n",
       "      <th>Actors</th>\n",
       "      <th>KeyWords</th>\n",
       "    </tr>\n",
       "  </thead>\n",
       "  <tbody>\n",
       "    <tr>\n",
       "      <th>0</th>\n",
       "      <td>The Shawshank Redemption</td>\n",
       "      <td>Crime, Drama</td>\n",
       "      <td>Frank Darabont</td>\n",
       "      <td>Tim Robbins, Morgan Freeman, Bob Gunton, Willi...</td>\n",
       "      <td></td>\n",
       "    </tr>\n",
       "    <tr>\n",
       "      <th>1</th>\n",
       "      <td>The Godfather</td>\n",
       "      <td>Crime, Drama</td>\n",
       "      <td>Francis Ford Coppola</td>\n",
       "      <td>Marlon Brando, Al Pacino, James Caan, Richard ...</td>\n",
       "      <td></td>\n",
       "    </tr>\n",
       "    <tr>\n",
       "      <th>2</th>\n",
       "      <td>The Godfather: Part II</td>\n",
       "      <td>Crime, Drama</td>\n",
       "      <td>Francis Ford Coppola</td>\n",
       "      <td>Al Pacino, Robert Duvall, Diane Keaton, Robert...</td>\n",
       "      <td></td>\n",
       "    </tr>\n",
       "    <tr>\n",
       "      <th>3</th>\n",
       "      <td>The Dark Knight</td>\n",
       "      <td>Action, Crime, Drama</td>\n",
       "      <td>Christopher Nolan</td>\n",
       "      <td>Christian Bale, Heath Ledger, Aaron Eckhart, M...</td>\n",
       "      <td></td>\n",
       "    </tr>\n",
       "    <tr>\n",
       "      <th>4</th>\n",
       "      <td>12 Angry Men</td>\n",
       "      <td>Crime, Drama</td>\n",
       "      <td>Sidney Lumet</td>\n",
       "      <td>Martin Balsam, John Fiedler, Lee J. Cobb, E.G....</td>\n",
       "      <td></td>\n",
       "    </tr>\n",
       "  </tbody>\n",
       "</table>\n",
       "</div>"
      ],
      "text/plain": [
       "                      Title                 Genre              Director  \\\n",
       "0  The Shawshank Redemption          Crime, Drama        Frank Darabont   \n",
       "1             The Godfather          Crime, Drama  Francis Ford Coppola   \n",
       "2    The Godfather: Part II          Crime, Drama  Francis Ford Coppola   \n",
       "3           The Dark Knight  Action, Crime, Drama     Christopher Nolan   \n",
       "4              12 Angry Men          Crime, Drama          Sidney Lumet   \n",
       "\n",
       "                                              Actors KeyWords  \n",
       "0  Tim Robbins, Morgan Freeman, Bob Gunton, Willi...           \n",
       "1  Marlon Brando, Al Pacino, James Caan, Richard ...           \n",
       "2  Al Pacino, Robert Duvall, Diane Keaton, Robert...           \n",
       "3  Christian Bale, Heath Ledger, Aaron Eckhart, M...           \n",
       "4  Martin Balsam, John Fiedler, Lee J. Cobb, E.G....           "
      ]
     },
     "execution_count": 67,
     "metadata": {},
     "output_type": "execute_result"
    }
   ],
   "source": [
    "df.head()"
   ]
  },
  {
   "cell_type": "code",
   "execution_count": 68,
   "metadata": {},
   "outputs": [],
   "source": [
    "##Convert everything to lowercase to avoid duplicacy\n",
    "df = df.applymap(lambda s:s.lower() if type(s) == str else s)"
   ]
  },
  {
   "cell_type": "code",
   "execution_count": 69,
   "metadata": {},
   "outputs": [
    {
     "data": {
      "text/html": [
       "<div>\n",
       "<style scoped>\n",
       "    .dataframe tbody tr th:only-of-type {\n",
       "        vertical-align: middle;\n",
       "    }\n",
       "\n",
       "    .dataframe tbody tr th {\n",
       "        vertical-align: top;\n",
       "    }\n",
       "\n",
       "    .dataframe thead th {\n",
       "        text-align: right;\n",
       "    }\n",
       "</style>\n",
       "<table border=\"1\" class=\"dataframe\">\n",
       "  <thead>\n",
       "    <tr style=\"text-align: right;\">\n",
       "      <th></th>\n",
       "      <th>Title</th>\n",
       "      <th>Genre</th>\n",
       "      <th>Director</th>\n",
       "      <th>Actors</th>\n",
       "      <th>KeyWords</th>\n",
       "      <th>b_o_w</th>\n",
       "    </tr>\n",
       "  </thead>\n",
       "  <tbody>\n",
       "    <tr>\n",
       "      <th>0</th>\n",
       "      <td>the shawshank redemption</td>\n",
       "      <td>crime, drama</td>\n",
       "      <td>frank darabont</td>\n",
       "      <td>tim robbins, morgan freeman, bob gunton, willi...</td>\n",
       "      <td></td>\n",
       "      <td>the shawshank redemption,crime, drama,frank da...</td>\n",
       "    </tr>\n",
       "    <tr>\n",
       "      <th>1</th>\n",
       "      <td>the godfather</td>\n",
       "      <td>crime, drama</td>\n",
       "      <td>francis ford coppola</td>\n",
       "      <td>marlon brando, al pacino, james caan, richard ...</td>\n",
       "      <td></td>\n",
       "      <td>the godfather,crime, drama,francis ford coppol...</td>\n",
       "    </tr>\n",
       "    <tr>\n",
       "      <th>2</th>\n",
       "      <td>the godfather: part ii</td>\n",
       "      <td>crime, drama</td>\n",
       "      <td>francis ford coppola</td>\n",
       "      <td>al pacino, robert duvall, diane keaton, robert...</td>\n",
       "      <td></td>\n",
       "      <td>the godfather: part ii,crime, drama,francis fo...</td>\n",
       "    </tr>\n",
       "    <tr>\n",
       "      <th>3</th>\n",
       "      <td>the dark knight</td>\n",
       "      <td>action, crime, drama</td>\n",
       "      <td>christopher nolan</td>\n",
       "      <td>christian bale, heath ledger, aaron eckhart, m...</td>\n",
       "      <td></td>\n",
       "      <td>the dark knight,action, crime, drama,christoph...</td>\n",
       "    </tr>\n",
       "    <tr>\n",
       "      <th>4</th>\n",
       "      <td>12 angry men</td>\n",
       "      <td>crime, drama</td>\n",
       "      <td>sidney lumet</td>\n",
       "      <td>martin balsam, john fiedler, lee j. cobb, e.g....</td>\n",
       "      <td></td>\n",
       "      <td>12 angry men,crime, drama,sidney lumet,martin ...</td>\n",
       "    </tr>\n",
       "  </tbody>\n",
       "</table>\n",
       "</div>"
      ],
      "text/plain": [
       "                      Title                 Genre              Director  \\\n",
       "0  the shawshank redemption          crime, drama        frank darabont   \n",
       "1             the godfather          crime, drama  francis ford coppola   \n",
       "2    the godfather: part ii          crime, drama  francis ford coppola   \n",
       "3           the dark knight  action, crime, drama     christopher nolan   \n",
       "4              12 angry men          crime, drama          sidney lumet   \n",
       "\n",
       "                                              Actors KeyWords  \\\n",
       "0  tim robbins, morgan freeman, bob gunton, willi...            \n",
       "1  marlon brando, al pacino, james caan, richard ...            \n",
       "2  al pacino, robert duvall, diane keaton, robert...            \n",
       "3  christian bale, heath ledger, aaron eckhart, m...            \n",
       "4  martin balsam, john fiedler, lee j. cobb, e.g....            \n",
       "\n",
       "                                               b_o_w  \n",
       "0  the shawshank redemption,crime, drama,frank da...  \n",
       "1  the godfather,crime, drama,francis ford coppol...  \n",
       "2  the godfather: part ii,crime, drama,francis fo...  \n",
       "3  the dark knight,action, crime, drama,christoph...  \n",
       "4  12 angry men,crime, drama,sidney lumet,martin ...  "
      ]
     },
     "execution_count": 69,
     "metadata": {},
     "output_type": "execute_result"
    }
   ],
   "source": [
    "## make a BOW to be vectorized\n",
    "df['b_o_w']=df['Title']+','+df['Genre']+','+df['Director']+','+df['Actors']\n",
    "df.head()"
   ]
  },
  {
   "cell_type": "code",
   "execution_count": 70,
   "metadata": {},
   "outputs": [],
   "source": [
    "## Instantiate the count vectorizer\n",
    "count=CountVectorizer()\n",
    "count_matrix =count.fit_transform(df['b_o_w'])\n"
   ]
  },
  {
   "cell_type": "code",
   "execution_count": 71,
   "metadata": {},
   "outputs": [],
   "source": [
    "## Generate a similarity matrix\n",
    "cos_sim = cosine_similarity(count_matrix,count_matrix)"
   ]
  },
  {
   "cell_type": "code",
   "execution_count": 80,
   "metadata": {},
   "outputs": [
    {
     "data": {
      "text/plain": [
       "array([1.        , 0.2       , 0.17320508, 0.19364917, 0.13801311,\n",
       "       0.06666667, 0.20672456, 0.20701967, 0.07161149, 0.21223818,\n",
       "       0.06454972, 0.05634362, 0.        , 0.1987616 , 0.12524486,\n",
       "       0.13801311, 0.05773503, 0.        , 0.25048972, 0.12909944,\n",
       "       0.22019275, 0.18786729, 0.19364917, 0.06262243, 0.06454972,\n",
       "       0.06666667, 0.12909944, 0.05923489, 0.06900656, 0.31311215,\n",
       "       0.        , 0.12524486, 0.13333333, 0.        , 0.2       ,\n",
       "       0.0745356 , 0.        , 0.06085806, 0.06900656, 0.12171612,\n",
       "       0.12909944, 0.06666667, 0.        , 0.11547005, 0.12909944,\n",
       "       0.        , 0.05383819, 0.06666667, 0.06900656, 0.13801311,\n",
       "       0.18786729, 0.06262243, 0.        , 0.06900656, 0.12171612,\n",
       "       0.        , 0.06900656, 0.        , 0.        , 0.05504819,\n",
       "       0.06454972, 0.2       , 0.12909944, 0.06900656, 0.06454972,\n",
       "       0.11846978, 0.12909944, 0.06900656, 0.2       , 0.11268723,\n",
       "       0.05383819, 0.20701967, 0.18257419, 0.06666667, 0.06454972,\n",
       "       0.06666667, 0.06262243, 0.06666667, 0.05634362, 0.06900656,\n",
       "       0.13333333, 0.06900656, 0.04794633, 0.13333333, 0.13801311,\n",
       "       0.06666667, 0.21535276, 0.05923489, 0.        , 0.        ,\n",
       "       0.11547005, 0.06262243, 0.18786729, 0.06666667, 0.12909944,\n",
       "       0.12171612, 0.13333333, 0.        , 0.11547005, 0.06900656,\n",
       "       0.19364917, 0.12524486, 0.05634362, 0.        , 0.22537447,\n",
       "       0.0745356 , 0.06085806, 0.06666667, 0.        , 0.05773503,\n",
       "       0.13801311, 0.06900656, 0.12524486, 0.06900656, 0.06262243,\n",
       "       0.12171612, 0.06262243, 0.06262243, 0.11268723, 0.13333333,\n",
       "       0.06900656, 0.07161149, 0.12171612, 0.13801311, 0.06262243,\n",
       "       0.11846978, 0.06666667, 0.06454972, 0.18257419, 0.12524486,\n",
       "       0.        , 0.06262243, 0.10767638, 0.        , 0.05163978,\n",
       "       0.18786729, 0.06454972, 0.12909944, 0.        , 0.1490712 ,\n",
       "       0.        , 0.16903085, 0.06666667, 0.06454972, 0.07161149,\n",
       "       0.06262243, 0.13333333, 0.06666667, 0.06454972, 0.06454972,\n",
       "       0.06454972, 0.17320508, 0.17770466, 0.13801311, 0.06900656,\n",
       "       0.17770466, 0.12171612, 0.06454972, 0.12524486, 0.        ,\n",
       "       0.06454972, 0.05923489, 0.17770466, 0.        , 0.11268723,\n",
       "       0.        , 0.06900656, 0.12524486, 0.11547005, 0.06262243,\n",
       "       0.06454972, 0.13333333, 0.06900656, 0.06666667, 0.07161149,\n",
       "       0.        , 0.13801311, 0.06085806, 0.12171612, 0.11268723,\n",
       "       0.06666667, 0.        , 0.06454972, 0.06262243, 0.15491933,\n",
       "       0.        , 0.06900656, 0.18257419, 0.12909944, 0.06454972,\n",
       "       0.06666667, 0.        , 0.13801311, 0.06262243, 0.22537447,\n",
       "       0.12171612, 0.05923489, 0.07161149, 0.        , 0.06085806,\n",
       "       0.12909944, 0.06900656, 0.        , 0.05923489, 0.13912167,\n",
       "       0.06666667, 0.12909944, 0.        , 0.13801311, 0.13333333,\n",
       "       0.06454972, 0.06666667, 0.13801311, 0.06900656, 0.12524486,\n",
       "       0.12171612, 0.13801311, 0.05163978, 0.19364917, 0.06085806,\n",
       "       0.06666667, 0.13801311, 0.12909944, 0.13801311, 0.06666667,\n",
       "       0.06666667, 0.13801311, 0.12524486, 0.18786729, 0.12909944,\n",
       "       0.06900656, 0.20701967, 0.06900656, 0.17320508, 0.06666667,\n",
       "       0.07161149, 0.07161149, 0.12909944, 0.12524486, 0.2       ,\n",
       "       0.06900656, 0.12909944, 0.06454972, 0.13333333, 0.06900656,\n",
       "       0.12524486, 0.06454972, 0.06454972, 0.12909944, 0.06666667])"
      ]
     },
     "execution_count": 80,
     "metadata": {},
     "output_type": "execute_result"
    }
   ],
   "source": [
    "cos_sim[0]\n"
   ]
  },
  {
   "cell_type": "code",
   "execution_count": 73,
   "metadata": {},
   "outputs": [],
   "source": [
    "## Create a series for the movie titles\n",
    "indices = pd.Series(df.index,index=df['Title']).drop_duplicates()"
   ]
  },
  {
   "cell_type": "markdown",
   "metadata": {},
   "source": [
    "## Define a function that takes the title of the movie and returns the first 10 similar movies"
   ]
  },
  {
   "cell_type": "code",
   "execution_count": 83,
   "metadata": {},
   "outputs": [],
   "source": [
    "def movie_recommendations(movie_title,cos_sim=cos_sim,df=df,indices=indices):\n",
    "    movies_recommended = []\n",
    "## get the index of the movie matching the title\n",
    "    idx = indices[movie_title]\n",
    "## create a series of similarity scores in a descending order\n",
    "    series_score= list(enumerate(cos_sim[idx]))\n",
    "    series_score=sorted(series_score,key=lambda x:x[1],reverse=True)\n",
    "    series_score= series_score[1:11]\n",
    "##Get the indices of the top 10 similar movies\n",
    "    movie_indices =[i[0] for i in series_score]\n",
    "## populate the list with the titles for the first 10\n",
    "    return df['Title'].iloc[movie_indices]\n"
   ]
  },
  {
   "cell_type": "code",
   "execution_count": 90,
   "metadata": {},
   "outputs": [],
   "source": [
    "m= movie_recommendations('amadeus')"
   ]
  },
  {
   "cell_type": "code",
   "execution_count": 91,
   "metadata": {},
   "outputs": [
    {
     "data": {
      "text/plain": [
       "153                          spotlight\n",
       "172                             gandhi\n",
       "5                     schindler's list\n",
       "60                          braveheart\n",
       "143                       hotel rwanda\n",
       "157                   12 years a slave\n",
       "229                  the king's speech\n",
       "14     one flew over the cuckoo's nest\n",
       "23                 saving private ryan\n",
       "117                      hacksaw ridge\n",
       "Name: Title, dtype: object"
      ]
     },
     "execution_count": 91,
     "metadata": {},
     "output_type": "execute_result"
    }
   ],
   "source": [
    "m"
   ]
  },
  {
   "cell_type": "code",
   "execution_count": null,
   "metadata": {},
   "outputs": [],
   "source": []
  },
  {
   "cell_type": "code",
   "execution_count": null,
   "metadata": {},
   "outputs": [],
   "source": []
  },
  {
   "cell_type": "code",
   "execution_count": null,
   "metadata": {},
   "outputs": [],
   "source": []
  }
 ],
 "metadata": {
  "kernelspec": {
   "display_name": "Python 3",
   "language": "python",
   "name": "python3"
  },
  "language_info": {
   "codemirror_mode": {
    "name": "ipython",
    "version": 3
   },
   "file_extension": ".py",
   "mimetype": "text/x-python",
   "name": "python",
   "nbconvert_exporter": "python",
   "pygments_lexer": "ipython3",
   "version": "3.7.4"
  }
 },
 "nbformat": 4,
 "nbformat_minor": 4
}

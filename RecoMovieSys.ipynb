{
 "cells": [
  {
   "cell_type": "code",
   "execution_count": 1,
   "metadata": {},
   "outputs": [],
   "source": [
    "import pandas as pd\n",
    "import matplotlib.pyplot as plt\n",
    "from rake_nltk import Rake\n",
    "import numpy as np\n",
    "from sklearn.metrics.pairwise import cosine_similarity\n",
    "from sklearn.feature_extraction.text import CountVectorizer\n"
   ]
  },
  {
   "cell_type": "markdown",
   "metadata": {},
   "source": [
    "## Read the data"
   ]
  },
  {
   "cell_type": "code",
   "execution_count": 2,
   "metadata": {},
   "outputs": [],
   "source": [
    "df = pd.read_csv(\"https://query.data.world/s/uikepcpffyo2nhig52xxeevdialfl7\")"
   ]
  },
  {
   "cell_type": "markdown",
   "metadata": {},
   "source": [
    "### Getting the relevant features for processing"
   ]
  },
  {
   "cell_type": "code",
   "execution_count": 3,
   "metadata": {},
   "outputs": [],
   "source": [
    "df = df[['Title','Genre','Director','Actors','Plot']]"
   ]
  },
  {
   "cell_type": "code",
   "execution_count": 4,
   "metadata": {},
   "outputs": [
    {
     "data": {
      "text/html": [
       "<div>\n",
       "<style scoped>\n",
       "    .dataframe tbody tr th:only-of-type {\n",
       "        vertical-align: middle;\n",
       "    }\n",
       "\n",
       "    .dataframe tbody tr th {\n",
       "        vertical-align: top;\n",
       "    }\n",
       "\n",
       "    .dataframe thead th {\n",
       "        text-align: right;\n",
       "    }\n",
       "</style>\n",
       "<table border=\"1\" class=\"dataframe\">\n",
       "  <thead>\n",
       "    <tr style=\"text-align: right;\">\n",
       "      <th></th>\n",
       "      <th>Title</th>\n",
       "      <th>Genre</th>\n",
       "      <th>Director</th>\n",
       "      <th>Actors</th>\n",
       "      <th>Plot</th>\n",
       "    </tr>\n",
       "  </thead>\n",
       "  <tbody>\n",
       "    <tr>\n",
       "      <th>0</th>\n",
       "      <td>The Shawshank Redemption</td>\n",
       "      <td>Crime, Drama</td>\n",
       "      <td>Frank Darabont</td>\n",
       "      <td>Tim Robbins, Morgan Freeman, Bob Gunton, Willi...</td>\n",
       "      <td>Two imprisoned men bond over a number of years...</td>\n",
       "    </tr>\n",
       "    <tr>\n",
       "      <th>1</th>\n",
       "      <td>The Godfather</td>\n",
       "      <td>Crime, Drama</td>\n",
       "      <td>Francis Ford Coppola</td>\n",
       "      <td>Marlon Brando, Al Pacino, James Caan, Richard ...</td>\n",
       "      <td>The aging patriarch of an organized crime dyna...</td>\n",
       "    </tr>\n",
       "    <tr>\n",
       "      <th>2</th>\n",
       "      <td>The Godfather: Part II</td>\n",
       "      <td>Crime, Drama</td>\n",
       "      <td>Francis Ford Coppola</td>\n",
       "      <td>Al Pacino, Robert Duvall, Diane Keaton, Robert...</td>\n",
       "      <td>The early life and career of Vito Corleone in ...</td>\n",
       "    </tr>\n",
       "    <tr>\n",
       "      <th>3</th>\n",
       "      <td>The Dark Knight</td>\n",
       "      <td>Action, Crime, Drama</td>\n",
       "      <td>Christopher Nolan</td>\n",
       "      <td>Christian Bale, Heath Ledger, Aaron Eckhart, M...</td>\n",
       "      <td>When the menace known as the Joker emerges fro...</td>\n",
       "    </tr>\n",
       "    <tr>\n",
       "      <th>4</th>\n",
       "      <td>12 Angry Men</td>\n",
       "      <td>Crime, Drama</td>\n",
       "      <td>Sidney Lumet</td>\n",
       "      <td>Martin Balsam, John Fiedler, Lee J. Cobb, E.G....</td>\n",
       "      <td>A jury holdout attempts to prevent a miscarria...</td>\n",
       "    </tr>\n",
       "  </tbody>\n",
       "</table>\n",
       "</div>"
      ],
      "text/plain": [
       "                      Title                 Genre              Director  \\\n",
       "0  The Shawshank Redemption          Crime, Drama        Frank Darabont   \n",
       "1             The Godfather          Crime, Drama  Francis Ford Coppola   \n",
       "2    The Godfather: Part II          Crime, Drama  Francis Ford Coppola   \n",
       "3           The Dark Knight  Action, Crime, Drama     Christopher Nolan   \n",
       "4              12 Angry Men          Crime, Drama          Sidney Lumet   \n",
       "\n",
       "                                              Actors  \\\n",
       "0  Tim Robbins, Morgan Freeman, Bob Gunton, Willi...   \n",
       "1  Marlon Brando, Al Pacino, James Caan, Richard ...   \n",
       "2  Al Pacino, Robert Duvall, Diane Keaton, Robert...   \n",
       "3  Christian Bale, Heath Ledger, Aaron Eckhart, M...   \n",
       "4  Martin Balsam, John Fiedler, Lee J. Cobb, E.G....   \n",
       "\n",
       "                                                Plot  \n",
       "0  Two imprisoned men bond over a number of years...  \n",
       "1  The aging patriarch of an organized crime dyna...  \n",
       "2  The early life and career of Vito Corleone in ...  \n",
       "3  When the menace known as the Joker emerges fro...  \n",
       "4  A jury holdout attempts to prevent a miscarria...  "
      ]
     },
     "execution_count": 4,
     "metadata": {},
     "output_type": "execute_result"
    }
   ],
   "source": [
    "df.head()"
   ]
  },
  {
   "cell_type": "code",
   "execution_count": 5,
   "metadata": {},
   "outputs": [
    {
     "data": {
      "text/html": [
       "<div>\n",
       "<style scoped>\n",
       "    .dataframe tbody tr th:only-of-type {\n",
       "        vertical-align: middle;\n",
       "    }\n",
       "\n",
       "    .dataframe tbody tr th {\n",
       "        vertical-align: top;\n",
       "    }\n",
       "\n",
       "    .dataframe thead th {\n",
       "        text-align: right;\n",
       "    }\n",
       "</style>\n",
       "<table border=\"1\" class=\"dataframe\">\n",
       "  <thead>\n",
       "    <tr style=\"text-align: right;\">\n",
       "      <th></th>\n",
       "      <th>Title</th>\n",
       "      <th>Genre</th>\n",
       "      <th>Director</th>\n",
       "      <th>Actors</th>\n",
       "      <th>Plot</th>\n",
       "    </tr>\n",
       "  </thead>\n",
       "  <tbody>\n",
       "    <tr>\n",
       "      <th>245</th>\n",
       "      <td>The Lost Weekend</td>\n",
       "      <td>Drama, Film-Noir</td>\n",
       "      <td>Billy Wilder</td>\n",
       "      <td>Ray Milland, Jane Wyman, Phillip Terry, Howard...</td>\n",
       "      <td>The desperate life of a chronic alcoholic is f...</td>\n",
       "    </tr>\n",
       "    <tr>\n",
       "      <th>246</th>\n",
       "      <td>Short Term 12</td>\n",
       "      <td>Drama</td>\n",
       "      <td>Destin Daniel Cretton</td>\n",
       "      <td>Brie Larson, John Gallagher Jr., Stephanie Bea...</td>\n",
       "      <td>A 20-something supervising staff member of a r...</td>\n",
       "    </tr>\n",
       "    <tr>\n",
       "      <th>247</th>\n",
       "      <td>His Girl Friday</td>\n",
       "      <td>Comedy, Drama, Romance</td>\n",
       "      <td>Howard Hawks</td>\n",
       "      <td>Cary Grant, Rosalind Russell, Ralph Bellamy, G...</td>\n",
       "      <td>A newspaper editor uses every trick in the boo...</td>\n",
       "    </tr>\n",
       "    <tr>\n",
       "      <th>248</th>\n",
       "      <td>The Straight Story</td>\n",
       "      <td>Biography, Drama</td>\n",
       "      <td>David Lynch</td>\n",
       "      <td>Sissy Spacek, Jane Galloway Heitz, Joseph A. C...</td>\n",
       "      <td>An old man makes a long journey by lawn-mover ...</td>\n",
       "    </tr>\n",
       "    <tr>\n",
       "      <th>249</th>\n",
       "      <td>Slumdog Millionaire</td>\n",
       "      <td>Drama</td>\n",
       "      <td>Danny Boyle, Loveleen Tandan</td>\n",
       "      <td>Dev Patel, Saurabh Shukla, Anil Kapoor, Raj Zu...</td>\n",
       "      <td>A Mumbai teen reflects on his upbringing in th...</td>\n",
       "    </tr>\n",
       "  </tbody>\n",
       "</table>\n",
       "</div>"
      ],
      "text/plain": [
       "                   Title                   Genre  \\\n",
       "245     The Lost Weekend        Drama, Film-Noir   \n",
       "246        Short Term 12                   Drama   \n",
       "247      His Girl Friday  Comedy, Drama, Romance   \n",
       "248   The Straight Story        Biography, Drama   \n",
       "249  Slumdog Millionaire                   Drama   \n",
       "\n",
       "                         Director  \\\n",
       "245                  Billy Wilder   \n",
       "246         Destin Daniel Cretton   \n",
       "247                  Howard Hawks   \n",
       "248                   David Lynch   \n",
       "249  Danny Boyle, Loveleen Tandan   \n",
       "\n",
       "                                                Actors  \\\n",
       "245  Ray Milland, Jane Wyman, Phillip Terry, Howard...   \n",
       "246  Brie Larson, John Gallagher Jr., Stephanie Bea...   \n",
       "247  Cary Grant, Rosalind Russell, Ralph Bellamy, G...   \n",
       "248  Sissy Spacek, Jane Galloway Heitz, Joseph A. C...   \n",
       "249  Dev Patel, Saurabh Shukla, Anil Kapoor, Raj Zu...   \n",
       "\n",
       "                                                  Plot  \n",
       "245  The desperate life of a chronic alcoholic is f...  \n",
       "246  A 20-something supervising staff member of a r...  \n",
       "247  A newspaper editor uses every trick in the boo...  \n",
       "248  An old man makes a long journey by lawn-mover ...  \n",
       "249  A Mumbai teen reflects on his upbringing in th...  "
      ]
     },
     "execution_count": 5,
     "metadata": {},
     "output_type": "execute_result"
    }
   ],
   "source": [
    "df.tail()"
   ]
  },
  {
   "cell_type": "code",
   "execution_count": 6,
   "metadata": {},
   "outputs": [
    {
     "name": "stdout",
     "output_type": "stream",
     "text": [
      "<class 'pandas.core.frame.DataFrame'>\n",
      "RangeIndex: 250 entries, 0 to 249\n",
      "Data columns (total 5 columns):\n",
      "Title       250 non-null object\n",
      "Genre       250 non-null object\n",
      "Director    250 non-null object\n",
      "Actors      250 non-null object\n",
      "Plot        250 non-null object\n",
      "dtypes: object(5)\n",
      "memory usage: 9.9+ KB\n"
     ]
    }
   ],
   "source": [
    "df.info()"
   ]
  },
  {
   "cell_type": "markdown",
   "metadata": {},
   "source": [
    "## Data Cleaning"
   ]
  },
  {
   "cell_type": "code",
   "execution_count": 27,
   "metadata": {},
   "outputs": [
    {
     "name": "stdout",
     "output_type": "stream",
     "text": [
      "<class 'pandas.core.frame.DataFrame'>\n",
      "RangeIndex: 250 entries, 0 to 249\n",
      "Data columns (total 6 columns):\n",
      "Title       250 non-null object\n",
      "Genre       250 non-null object\n",
      "Director    250 non-null object\n",
      "Actors      250 non-null object\n",
      "Plot        250 non-null object\n",
      "b_o_w       250 non-null object\n",
      "dtypes: object(6)\n",
      "memory usage: 11.8+ KB\n"
     ]
    },
    {
     "data": {
      "text/plain": [
       "Title       0\n",
       "Genre       0\n",
       "Director    0\n",
       "Actors      0\n",
       "Plot        0\n",
       "b_o_w       0\n",
       "dtype: int64"
      ]
     },
     "execution_count": 27,
     "metadata": {},
     "output_type": "execute_result"
    }
   ],
   "source": [
    "df.info()\n",
    "df.isnull().sum()"
   ]
  },
  {
   "cell_type": "code",
   "execution_count": 9,
   "metadata": {},
   "outputs": [
    {
     "data": {
      "text/html": [
       "<div>\n",
       "<style scoped>\n",
       "    .dataframe tbody tr th:only-of-type {\n",
       "        vertical-align: middle;\n",
       "    }\n",
       "\n",
       "    .dataframe tbody tr th {\n",
       "        vertical-align: top;\n",
       "    }\n",
       "\n",
       "    .dataframe thead th {\n",
       "        text-align: right;\n",
       "    }\n",
       "</style>\n",
       "<table border=\"1\" class=\"dataframe\">\n",
       "  <thead>\n",
       "    <tr style=\"text-align: right;\">\n",
       "      <th></th>\n",
       "      <th>Title</th>\n",
       "      <th>Genre</th>\n",
       "      <th>Director</th>\n",
       "      <th>Actors</th>\n",
       "      <th>Plot</th>\n",
       "    </tr>\n",
       "  </thead>\n",
       "  <tbody>\n",
       "    <tr>\n",
       "      <th>0</th>\n",
       "      <td>The Shawshank Redemption</td>\n",
       "      <td>Crime, Drama</td>\n",
       "      <td>Frank Darabont</td>\n",
       "      <td>Tim Robbins, Morgan Freeman, Bob Gunton, Willi...</td>\n",
       "      <td>Two imprisoned men bond over a number of years...</td>\n",
       "    </tr>\n",
       "    <tr>\n",
       "      <th>1</th>\n",
       "      <td>The Godfather</td>\n",
       "      <td>Crime, Drama</td>\n",
       "      <td>Francis Ford Coppola</td>\n",
       "      <td>Marlon Brando, Al Pacino, James Caan, Richard ...</td>\n",
       "      <td>The aging patriarch of an organized crime dyna...</td>\n",
       "    </tr>\n",
       "    <tr>\n",
       "      <th>2</th>\n",
       "      <td>The Godfather: Part II</td>\n",
       "      <td>Crime, Drama</td>\n",
       "      <td>Francis Ford Coppola</td>\n",
       "      <td>Al Pacino, Robert Duvall, Diane Keaton, Robert...</td>\n",
       "      <td>The early life and career of Vito Corleone in ...</td>\n",
       "    </tr>\n",
       "    <tr>\n",
       "      <th>3</th>\n",
       "      <td>The Dark Knight</td>\n",
       "      <td>Action, Crime, Drama</td>\n",
       "      <td>Christopher Nolan</td>\n",
       "      <td>Christian Bale, Heath Ledger, Aaron Eckhart, M...</td>\n",
       "      <td>When the menace known as the Joker emerges fro...</td>\n",
       "    </tr>\n",
       "    <tr>\n",
       "      <th>4</th>\n",
       "      <td>12 Angry Men</td>\n",
       "      <td>Crime, Drama</td>\n",
       "      <td>Sidney Lumet</td>\n",
       "      <td>Martin Balsam, John Fiedler, Lee J. Cobb, E.G....</td>\n",
       "      <td>A jury holdout attempts to prevent a miscarria...</td>\n",
       "    </tr>\n",
       "  </tbody>\n",
       "</table>\n",
       "</div>"
      ],
      "text/plain": [
       "                      Title                 Genre              Director  \\\n",
       "0  The Shawshank Redemption          Crime, Drama        Frank Darabont   \n",
       "1             The Godfather          Crime, Drama  Francis Ford Coppola   \n",
       "2    The Godfather: Part II          Crime, Drama  Francis Ford Coppola   \n",
       "3           The Dark Knight  Action, Crime, Drama     Christopher Nolan   \n",
       "4              12 Angry Men          Crime, Drama          Sidney Lumet   \n",
       "\n",
       "                                              Actors  \\\n",
       "0  Tim Robbins, Morgan Freeman, Bob Gunton, Willi...   \n",
       "1  Marlon Brando, Al Pacino, James Caan, Richard ...   \n",
       "2  Al Pacino, Robert Duvall, Diane Keaton, Robert...   \n",
       "3  Christian Bale, Heath Ledger, Aaron Eckhart, M...   \n",
       "4  Martin Balsam, John Fiedler, Lee J. Cobb, E.G....   \n",
       "\n",
       "                                                Plot  \n",
       "0  Two imprisoned men bond over a number of years...  \n",
       "1  The aging patriarch of an organized crime dyna...  \n",
       "2  The early life and career of Vito Corleone in ...  \n",
       "3  When the menace known as the Joker emerges fro...  \n",
       "4  A jury holdout attempts to prevent a miscarria...  "
      ]
     },
     "execution_count": 9,
     "metadata": {},
     "output_type": "execute_result"
    }
   ],
   "source": [
    "df.head()"
   ]
  },
  {
   "cell_type": "code",
   "execution_count": 10,
   "metadata": {},
   "outputs": [],
   "source": [
    "##Convert everything to lowercase to avoid duplicacy\n",
    "df = df.applymap(lambda s:s.lower() if type(s) == str else s)"
   ]
  },
  {
   "cell_type": "code",
   "execution_count": 11,
   "metadata": {},
   "outputs": [
    {
     "data": {
      "text/html": [
       "<div>\n",
       "<style scoped>\n",
       "    .dataframe tbody tr th:only-of-type {\n",
       "        vertical-align: middle;\n",
       "    }\n",
       "\n",
       "    .dataframe tbody tr th {\n",
       "        vertical-align: top;\n",
       "    }\n",
       "\n",
       "    .dataframe thead th {\n",
       "        text-align: right;\n",
       "    }\n",
       "</style>\n",
       "<table border=\"1\" class=\"dataframe\">\n",
       "  <thead>\n",
       "    <tr style=\"text-align: right;\">\n",
       "      <th></th>\n",
       "      <th>Title</th>\n",
       "      <th>Genre</th>\n",
       "      <th>Director</th>\n",
       "      <th>Actors</th>\n",
       "      <th>Plot</th>\n",
       "      <th>b_o_w</th>\n",
       "    </tr>\n",
       "  </thead>\n",
       "  <tbody>\n",
       "    <tr>\n",
       "      <th>0</th>\n",
       "      <td>the shawshank redemption</td>\n",
       "      <td>crime, drama</td>\n",
       "      <td>frank darabont</td>\n",
       "      <td>tim robbins, morgan freeman, bob gunton, willi...</td>\n",
       "      <td>two imprisoned men bond over a number of years...</td>\n",
       "      <td>the shawshank redemption,crime, drama,frank da...</td>\n",
       "    </tr>\n",
       "    <tr>\n",
       "      <th>1</th>\n",
       "      <td>the godfather</td>\n",
       "      <td>crime, drama</td>\n",
       "      <td>francis ford coppola</td>\n",
       "      <td>marlon brando, al pacino, james caan, richard ...</td>\n",
       "      <td>the aging patriarch of an organized crime dyna...</td>\n",
       "      <td>the godfather,crime, drama,francis ford coppol...</td>\n",
       "    </tr>\n",
       "    <tr>\n",
       "      <th>2</th>\n",
       "      <td>the godfather: part ii</td>\n",
       "      <td>crime, drama</td>\n",
       "      <td>francis ford coppola</td>\n",
       "      <td>al pacino, robert duvall, diane keaton, robert...</td>\n",
       "      <td>the early life and career of vito corleone in ...</td>\n",
       "      <td>the godfather: part ii,crime, drama,francis fo...</td>\n",
       "    </tr>\n",
       "    <tr>\n",
       "      <th>3</th>\n",
       "      <td>the dark knight</td>\n",
       "      <td>action, crime, drama</td>\n",
       "      <td>christopher nolan</td>\n",
       "      <td>christian bale, heath ledger, aaron eckhart, m...</td>\n",
       "      <td>when the menace known as the joker emerges fro...</td>\n",
       "      <td>the dark knight,action, crime, drama,christoph...</td>\n",
       "    </tr>\n",
       "    <tr>\n",
       "      <th>4</th>\n",
       "      <td>12 angry men</td>\n",
       "      <td>crime, drama</td>\n",
       "      <td>sidney lumet</td>\n",
       "      <td>martin balsam, john fiedler, lee j. cobb, e.g....</td>\n",
       "      <td>a jury holdout attempts to prevent a miscarria...</td>\n",
       "      <td>12 angry men,crime, drama,sidney lumet,martin ...</td>\n",
       "    </tr>\n",
       "  </tbody>\n",
       "</table>\n",
       "</div>"
      ],
      "text/plain": [
       "                      Title                 Genre              Director  \\\n",
       "0  the shawshank redemption          crime, drama        frank darabont   \n",
       "1             the godfather          crime, drama  francis ford coppola   \n",
       "2    the godfather: part ii          crime, drama  francis ford coppola   \n",
       "3           the dark knight  action, crime, drama     christopher nolan   \n",
       "4              12 angry men          crime, drama          sidney lumet   \n",
       "\n",
       "                                              Actors  \\\n",
       "0  tim robbins, morgan freeman, bob gunton, willi...   \n",
       "1  marlon brando, al pacino, james caan, richard ...   \n",
       "2  al pacino, robert duvall, diane keaton, robert...   \n",
       "3  christian bale, heath ledger, aaron eckhart, m...   \n",
       "4  martin balsam, john fiedler, lee j. cobb, e.g....   \n",
       "\n",
       "                                                Plot  \\\n",
       "0  two imprisoned men bond over a number of years...   \n",
       "1  the aging patriarch of an organized crime dyna...   \n",
       "2  the early life and career of vito corleone in ...   \n",
       "3  when the menace known as the joker emerges fro...   \n",
       "4  a jury holdout attempts to prevent a miscarria...   \n",
       "\n",
       "                                               b_o_w  \n",
       "0  the shawshank redemption,crime, drama,frank da...  \n",
       "1  the godfather,crime, drama,francis ford coppol...  \n",
       "2  the godfather: part ii,crime, drama,francis fo...  \n",
       "3  the dark knight,action, crime, drama,christoph...  \n",
       "4  12 angry men,crime, drama,sidney lumet,martin ...  "
      ]
     },
     "execution_count": 11,
     "metadata": {},
     "output_type": "execute_result"
    }
   ],
   "source": [
    "## make a BOW(bag of words) to be vectorized\n",
    "df['b_o_w']=df['Title']+','+df['Genre']+','+df['Director']+','+df['Actors']+','+df['Plot']\n",
    "df.head()"
   ]
  },
  {
   "cell_type": "code",
   "execution_count": 12,
   "metadata": {},
   "outputs": [],
   "source": [
    "## Instantiate the count vectorizer\n",
    "count=CountVectorizer()\n",
    "count_matrix =count.fit_transform(df['b_o_w'])\n"
   ]
  },
  {
   "cell_type": "code",
   "execution_count": 13,
   "metadata": {},
   "outputs": [],
   "source": [
    "## Generate a similarity matrix\n",
    "cos_sim = cosine_similarity(count_matrix,count_matrix)"
   ]
  },
  {
   "cell_type": "code",
   "execution_count": 28,
   "metadata": {},
   "outputs": [
    {
     "data": {
      "text/plain": [
       "array([0.16610265, 0.27050089, 0.2795085 , 0.37341524, 0.20412415,\n",
       "       0.11135885, 0.31774445, 0.21516574, 0.06004806, 0.31441407,\n",
       "       0.04508348, 0.19113821, 0.24743583, 0.32129478, 0.19287919,\n",
       "       0.28180093, 0.22453656, 0.14322297, 0.12376844, 0.08804509,\n",
       "       0.28867513, 0.23668232, 0.17376201, 0.16390252, 0.20833333,\n",
       "       0.15309311, 0.14433757, 0.20801257, 0.07654655, 0.30024029,\n",
       "       0.19153272, 0.29568851, 0.2773501 , 0.14048787, 0.17817416,\n",
       "       0.13055824, 0.10416667, 0.19641855, 0.15779219, 0.13266716,\n",
       "       0.18490007, 0.17407766, 0.048795  , 0.12632279, 0.0949158 ,\n",
       "       0.15032921, 0.13878403, 0.1898316 , 0.17327582, 0.27216553,\n",
       "       0.12376844, 0.34096545, 0.21356055, 0.05270463, 0.25301216,\n",
       "       0.12768848, 0.26837252, 0.16012815, 0.13693064, 0.23448415,\n",
       "       0.17817416, 0.17078251, 0.04454354, 0.15811388, 0.30065841,\n",
       "       0.14638501, 0.1753336 , 0.16390252, 0.14048787, 0.23273733,\n",
       "       0.09901475, 0.17057206, 0.22017621, 0.20134682, 0.13867505,\n",
       "       0.24494897, 0.04508348, 0.07216878, 0.14011213, 0.0243975 ,\n",
       "       0.20619652, 0.16390252, 0.13878403, 0.10206207, 0.125     ,\n",
       "       0.09365858, 0.21997067, 0.22734943, 0.11135885, 0.18190172,\n",
       "       0.06846532, 0.17407766, 0.18033393, 0.07426107, 0.20211302,\n",
       "       0.17407766, 0.14322297, 0.17843661, 0.20539596, 0.12757759,\n",
       "       0.20100756, 0.19810145, 0.09245003, 0.09240266, 0.27801922,\n",
       "       0.18463724, 0.05455447, 0.23454855, 0.1000801 , 0.15204091,\n",
       "       0.02282177, 0.12562973, 0.18557687, 0.25534412, 0.23935678,\n",
       "       0.31740553, 0.09365858, 0.26854308, 0.11005636, 0.29329423,\n",
       "       0.16366342, 0.3125    , 0.2912052 , 0.11547005, 0.10309826,\n",
       "       0.17843661, 0.13749299, 0.1423737 , 0.20412415, 0.1898316 ,\n",
       "       0.19810145, 0.15990054, 0.08247861, 0.2236068 , 0.31944956,\n",
       "       0.2534897 , 0.26064302, 0.27369937, 0.26726124, 0.07654655,\n",
       "       0.20100756, 0.31162512, 0.08183171, 0.11410887, 0.2575611 ,\n",
       "       0.25301216, 0.11707323, 0.24397502, 0.13176157, 0.33014782,\n",
       "       0.09622504, 0.16839383, 0.22541741, 0.27801922, 0.16666667,\n",
       "       0.15061602, 0.31426968, 0.12028131, 0.27962947, 0.15861032,\n",
       "       0.11864475, 0.07777138, 0.05360563, 0.02405626, 0.14433757,\n",
       "       0.17129718, 0.12247449, 0.12961896, 0.21408721, 0.20272121,\n",
       "       0.16666667, 0.22011273, 0.33557803, 0.14638501, 0.18557687,\n",
       "       0.07216878, 0.17407766, 0.21281413, 0.18042196, 0.23570226,\n",
       "       0.16366342, 0.17323372, 0.17025131, 0.26772484, 0.24913941,\n",
       "       0.12198751, 0.048795  , 0.26255252, 0.29462783, 0.20539596,\n",
       "       0.17503501, 0.05184758, 0.33471934, 0.12371791, 0.21516574,\n",
       "       0.24397502, 0.10206207, 0.28428677, 0.27247463, 0.25264558,\n",
       "       0.07537784, 0.2236068 , 0.0949158 , 0.22681618, 0.26255252,\n",
       "       0.16390252, 0.14433757, 0.24853371, 0.15975241, 0.21160368,\n",
       "       0.12198751, 0.1127087 , 0.242124  , 0.09476226, 0.14433757,\n",
       "       0.14583333, 0.10721125, 0.07930516, 0.08838835, 0.14147911,\n",
       "       0.21281413, 0.18952451, 0.27247463, 0.21073181, 0.32225169,\n",
       "       0.13525045, 0.18791151, 0.17213259, 0.21073181, 0.34815531,\n",
       "       0.19153272, 0.10721125, 0.15811388, 0.17025131, 0.17588162,\n",
       "       0.21957752, 0.0949158 , 0.22681618, 0.18557687, 0.15309311,\n",
       "       0.09128709, 0.16390252, 0.19583736, 0.16081688, 0.242124  ,\n",
       "       0.20412415, 0.15779219, 0.17078251, 0.12028131, 1.        ])"
      ]
     },
     "execution_count": 28,
     "metadata": {},
     "output_type": "execute_result"
    }
   ],
   "source": [
    "cos_sim[249]\n"
   ]
  },
  {
   "cell_type": "code",
   "execution_count": 15,
   "metadata": {},
   "outputs": [],
   "source": [
    "## Create a series for the movie titles\n",
    "indices = pd.Series(df.index,index=df['Title']).drop_duplicates()"
   ]
  },
  {
   "cell_type": "markdown",
   "metadata": {},
   "source": [
    "## Define a function that takes the title of the movie and returns the first 10 similar movies"
   ]
  },
  {
   "cell_type": "code",
   "execution_count": 16,
   "metadata": {},
   "outputs": [],
   "source": [
    "def movie_recommendations(movie_title,cos_sim=cos_sim,df=df,indices=indices):\n",
    "    movies_recommended = []\n",
    "## get the index of the movie matching the title\n",
    "    idx = indices[movie_title]\n",
    "## create a series of similarity scores in a descending order\n",
    "    series_score= list(enumerate(cos_sim[idx]))\n",
    "    series_score=sorted(series_score,key=lambda x:x[1],reverse=True)\n",
    "    series_score= series_score[1:11]\n",
    "##Get the indices of the top 10 similar movies\n",
    "    movie_indices =[i[0] for i in series_score]\n",
    "## populate the list with the titles for the first 10\n",
    "    return df['Title'].iloc[movie_indices]\n"
   ]
  },
  {
   "cell_type": "code",
   "execution_count": 29,
   "metadata": {},
   "outputs": [],
   "source": [
    "m= movie_recommendations('anatomy of a murder')"
   ]
  },
  {
   "cell_type": "code",
   "execution_count": 30,
   "metadata": {},
   "outputs": [
    {
     "data": {
      "text/plain": [
       "3                                        the dark knight\n",
       "15                                            goodfellas\n",
       "172                                               gandhi\n",
       "13                 the lord of the rings: the two towers\n",
       "6          the lord of the rings: the return of the king\n",
       "229                                    the king's speech\n",
       "2                                 the godfather: part ii\n",
       "51                                 the dark knight rises\n",
       "224                                            rio bravo\n",
       "9      the lord of the rings: the fellowship of the ring\n",
       "Name: Title, dtype: object"
      ]
     },
     "execution_count": 30,
     "metadata": {},
     "output_type": "execute_result"
    }
   ],
   "source": [
    "m"
   ]
  },
  {
   "cell_type": "code",
   "execution_count": 22,
   "metadata": {},
   "outputs": [],
   "source": [
    "k=movie_recommendations('the dark knight')"
   ]
  },
  {
   "cell_type": "code",
   "execution_count": 23,
   "metadata": {},
   "outputs": [
    {
     "data": {
      "text/plain": [
       "51                                 the dark knight rises\n",
       "9      the lord of the rings: the fellowship of the ring\n",
       "6          the lord of the rings: the return of the king\n",
       "229                                    the king's speech\n",
       "13                 the lord of the rings: the two towers\n",
       "115                              the wolf of wall street\n",
       "31                               raiders of the lost ark\n",
       "49                                           the shining\n",
       "192                                             the help\n",
       "153                                            spotlight\n",
       "Name: Title, dtype: object"
      ]
     },
     "execution_count": 23,
     "metadata": {},
     "output_type": "execute_result"
    }
   ],
   "source": [
    "k"
   ]
  },
  {
   "cell_type": "code",
   "execution_count": null,
   "metadata": {},
   "outputs": [],
   "source": []
  }
 ],
 "metadata": {
  "kernelspec": {
   "display_name": "Python 3",
   "language": "python",
   "name": "python3"
  },
  "language_info": {
   "codemirror_mode": {
    "name": "ipython",
    "version": 3
   },
   "file_extension": ".py",
   "mimetype": "text/x-python",
   "name": "python",
   "nbconvert_exporter": "python",
   "pygments_lexer": "ipython3",
   "version": "3.7.4"
  }
 },
 "nbformat": 4,
 "nbformat_minor": 4
}

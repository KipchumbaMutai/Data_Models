{
 "cells": [
  {
   "cell_type": "code",
   "execution_count": 1,
   "metadata": {},
   "outputs": [],
   "source": [
    "import matplotlib.pyplot as plt\n",
    "import seaborn as sns\n",
    "import pandas as pd\n",
    "import warnings\n",
    "import numpy as np\n",
    "from IPython.display import display\n"
   ]
  },
  {
   "cell_type": "raw",
   "metadata": {},
   "source": [
    "warnings.filterwarnings('ignore')"
   ]
  },
  {
   "cell_type": "code",
   "execution_count": 2,
   "metadata": {},
   "outputs": [],
   "source": [
    "sns.set(color_codes=True)"
   ]
  },
  {
   "cell_type": "markdown",
   "metadata": {},
   "source": [
    "## Read the Data"
   ]
  },
  {
   "cell_type": "code",
   "execution_count": 3,
   "metadata": {},
   "outputs": [
    {
     "name": "stdout",
     "output_type": "stream",
     "text": [
      "Data read successfully!\n"
     ]
    }
   ],
   "source": [
    "try:\n",
    "    df = pd.read_csv('../data/Econ.csv', encoding ='ISO-8859-1')\n",
    "    print('Data read successfully!')\n",
    "except Exception as e:\n",
    "    print(\"Error reading data: {}\".format(str(e)))"
   ]
  },
  {
   "cell_type": "markdown",
   "metadata": {},
   "source": [
    "## Take a look at the Data \n",
    "### Kipchumba"
   ]
  },
  {
   "cell_type": "code",
   "execution_count": 4,
   "metadata": {},
   "outputs": [
    {
     "data": {
      "text/html": [
       "<div>\n",
       "<style scoped>\n",
       "    .dataframe tbody tr th:only-of-type {\n",
       "        vertical-align: middle;\n",
       "    }\n",
       "\n",
       "    .dataframe tbody tr th {\n",
       "        vertical-align: top;\n",
       "    }\n",
       "\n",
       "    .dataframe thead th {\n",
       "        text-align: right;\n",
       "    }\n",
       "</style>\n",
       "<table border=\"1\" class=\"dataframe\">\n",
       "  <thead>\n",
       "    <tr style=\"text-align: right;\">\n",
       "      <th></th>\n",
       "      <th>City</th>\n",
       "      <th>riders</th>\n",
       "      <th>price</th>\n",
       "      <th>pop</th>\n",
       "      <th>income</th>\n",
       "      <th>rates</th>\n",
       "    </tr>\n",
       "  </thead>\n",
       "  <tbody>\n",
       "    <tr>\n",
       "      <th>0</th>\n",
       "      <td>1</td>\n",
       "      <td>192,000</td>\n",
       "      <td>$15</td>\n",
       "      <td>1,800,000</td>\n",
       "      <td>$5,800</td>\n",
       "      <td>$50</td>\n",
       "    </tr>\n",
       "    <tr>\n",
       "      <th>1</th>\n",
       "      <td>2</td>\n",
       "      <td>190,400</td>\n",
       "      <td>$15</td>\n",
       "      <td>1,790,000</td>\n",
       "      <td>$6,200</td>\n",
       "      <td>$50</td>\n",
       "    </tr>\n",
       "    <tr>\n",
       "      <th>2</th>\n",
       "      <td>3</td>\n",
       "      <td>191,200</td>\n",
       "      <td>$15</td>\n",
       "      <td>1,780,000</td>\n",
       "      <td>$6,400</td>\n",
       "      <td>$60</td>\n",
       "    </tr>\n",
       "    <tr>\n",
       "      <th>3</th>\n",
       "      <td>4</td>\n",
       "      <td>177,600</td>\n",
       "      <td>$25</td>\n",
       "      <td>1,778,000</td>\n",
       "      <td>$6,500</td>\n",
       "      <td>$60</td>\n",
       "    </tr>\n",
       "    <tr>\n",
       "      <th>4</th>\n",
       "      <td>5</td>\n",
       "      <td>176,800</td>\n",
       "      <td>$25</td>\n",
       "      <td>1,750,000</td>\n",
       "      <td>$6,550</td>\n",
       "      <td>$60</td>\n",
       "    </tr>\n",
       "  </tbody>\n",
       "</table>\n",
       "</div>"
      ],
      "text/plain": [
       "   City    riders price        pop  income rates\n",
       "0      1  192,000  $15   1,800,000  $5,800   $50\n",
       "1      2  190,400  $15   1,790,000  $6,200   $50\n",
       "2      3  191,200  $15   1,780,000  $6,400   $60\n",
       "3      4  177,600  $25   1,778,000  $6,500   $60\n",
       "4      5  176,800  $25   1,750,000  $6,550   $60"
      ]
     },
     "execution_count": 4,
     "metadata": {},
     "output_type": "execute_result"
    }
   ],
   "source": [
    "df.head()"
   ]
  },
  {
   "cell_type": "code",
   "execution_count": 5,
   "metadata": {},
   "outputs": [
    {
     "data": {
      "text/html": [
       "<div>\n",
       "<style scoped>\n",
       "    .dataframe tbody tr th:only-of-type {\n",
       "        vertical-align: middle;\n",
       "    }\n",
       "\n",
       "    .dataframe tbody tr th {\n",
       "        vertical-align: top;\n",
       "    }\n",
       "\n",
       "    .dataframe thead th {\n",
       "        text-align: right;\n",
       "    }\n",
       "</style>\n",
       "<table border=\"1\" class=\"dataframe\">\n",
       "  <thead>\n",
       "    <tr style=\"text-align: right;\">\n",
       "      <th></th>\n",
       "      <th>City</th>\n",
       "      <th>riders</th>\n",
       "      <th>price</th>\n",
       "      <th>pop</th>\n",
       "      <th>income</th>\n",
       "      <th>rates</th>\n",
       "    </tr>\n",
       "  </thead>\n",
       "  <tbody>\n",
       "    <tr>\n",
       "      <th>22</th>\n",
       "      <td>23</td>\n",
       "      <td>126,240</td>\n",
       "      <td>$86</td>\n",
       "      <td>1,590,000</td>\n",
       "      <td>$15,000</td>\n",
       "      <td>$165</td>\n",
       "    </tr>\n",
       "    <tr>\n",
       "      <th>23</th>\n",
       "      <td>24</td>\n",
       "      <td>123,888</td>\n",
       "      <td>$98</td>\n",
       "      <td>1,595,000</td>\n",
       "      <td>$15,200</td>\n",
       "      <td>$175</td>\n",
       "    </tr>\n",
       "    <tr>\n",
       "      <th>24</th>\n",
       "      <td>25</td>\n",
       "      <td>126,080</td>\n",
       "      <td>$87</td>\n",
       "      <td>1,590,000</td>\n",
       "      <td>$15,600</td>\n",
       "      <td>$175</td>\n",
       "    </tr>\n",
       "    <tr>\n",
       "      <th>25</th>\n",
       "      <td>26</td>\n",
       "      <td>151,680</td>\n",
       "      <td>$77</td>\n",
       "      <td>1,600,000</td>\n",
       "      <td>$16,000</td>\n",
       "      <td>$190</td>\n",
       "    </tr>\n",
       "    <tr>\n",
       "      <th>26</th>\n",
       "      <td>27</td>\n",
       "      <td>152,800</td>\n",
       "      <td>$63</td>\n",
       "      <td>1,610,000</td>\n",
       "      <td>$16,200</td>\n",
       "      <td>$200</td>\n",
       "    </tr>\n",
       "  </tbody>\n",
       "</table>\n",
       "</div>"
      ],
      "text/plain": [
       "    City    riders price        pop   income rates\n",
       "22     23  126,240  $86   1,590,000  $15,000  $165\n",
       "23     24  123,888  $98   1,595,000  $15,200  $175\n",
       "24     25  126,080  $87   1,590,000  $15,600  $175\n",
       "25     26  151,680  $77   1,600,000  $16,000  $190\n",
       "26     27  152,800  $63   1,610,000  $16,200  $200"
      ]
     },
     "execution_count": 5,
     "metadata": {},
     "output_type": "execute_result"
    }
   ],
   "source": [
    "df.tail()"
   ]
  },
  {
   "cell_type": "markdown",
   "metadata": {},
   "source": [
    "## Data Cleaning"
   ]
  },
  {
   "cell_type": "code",
   "execution_count": 6,
   "metadata": {},
   "outputs": [],
   "source": [
    "## Remove all the $(dolla signs) in the rows price per week, monthly income of riders and avg parking rates"
   ]
  },
  {
   "cell_type": "code",
   "execution_count": 7,
   "metadata": {},
   "outputs": [
    {
     "name": "stdout",
     "output_type": "stream",
     "text": [
      "<class 'pandas.core.frame.DataFrame'>\n",
      "RangeIndex: 27 entries, 0 to 26\n",
      "Data columns (total 6 columns):\n",
      "City      27 non-null int64\n",
      "riders    27 non-null object\n",
      "price     27 non-null object\n",
      "pop       27 non-null object\n",
      "income    27 non-null object\n",
      "rates     27 non-null object\n",
      "dtypes: int64(1), object(5)\n",
      "memory usage: 1.4+ KB\n"
     ]
    }
   ],
   "source": [
    "df.info()"
   ]
  },
  {
   "cell_type": "markdown",
   "metadata": {},
   "source": [
    "### Remove commas and dollar signs in the data"
   ]
  },
  {
   "cell_type": "code",
   "execution_count": 8,
   "metadata": {},
   "outputs": [
    {
     "data": {
      "text/html": [
       "<div>\n",
       "<style scoped>\n",
       "    .dataframe tbody tr th:only-of-type {\n",
       "        vertical-align: middle;\n",
       "    }\n",
       "\n",
       "    .dataframe tbody tr th {\n",
       "        vertical-align: top;\n",
       "    }\n",
       "\n",
       "    .dataframe thead th {\n",
       "        text-align: right;\n",
       "    }\n",
       "</style>\n",
       "<table border=\"1\" class=\"dataframe\">\n",
       "  <thead>\n",
       "    <tr style=\"text-align: right;\">\n",
       "      <th></th>\n",
       "      <th>riders</th>\n",
       "      <th>pop</th>\n",
       "      <th>price</th>\n",
       "      <th>income</th>\n",
       "      <th>rates</th>\n",
       "    </tr>\n",
       "  </thead>\n",
       "  <tbody>\n",
       "    <tr>\n",
       "      <th>0</th>\n",
       "      <td>192000.0</td>\n",
       "      <td>1800000.0</td>\n",
       "      <td>15.0</td>\n",
       "      <td>5800.0</td>\n",
       "      <td>50.0</td>\n",
       "    </tr>\n",
       "    <tr>\n",
       "      <th>1</th>\n",
       "      <td>190400.0</td>\n",
       "      <td>1790000.0</td>\n",
       "      <td>15.0</td>\n",
       "      <td>6200.0</td>\n",
       "      <td>50.0</td>\n",
       "    </tr>\n",
       "    <tr>\n",
       "      <th>2</th>\n",
       "      <td>191200.0</td>\n",
       "      <td>1780000.0</td>\n",
       "      <td>15.0</td>\n",
       "      <td>6400.0</td>\n",
       "      <td>60.0</td>\n",
       "    </tr>\n",
       "    <tr>\n",
       "      <th>3</th>\n",
       "      <td>177600.0</td>\n",
       "      <td>1778000.0</td>\n",
       "      <td>25.0</td>\n",
       "      <td>6500.0</td>\n",
       "      <td>60.0</td>\n",
       "    </tr>\n",
       "    <tr>\n",
       "      <th>4</th>\n",
       "      <td>176800.0</td>\n",
       "      <td>1750000.0</td>\n",
       "      <td>25.0</td>\n",
       "      <td>6550.0</td>\n",
       "      <td>60.0</td>\n",
       "    </tr>\n",
       "    <tr>\n",
       "      <th>5</th>\n",
       "      <td>178400.0</td>\n",
       "      <td>1740000.0</td>\n",
       "      <td>25.0</td>\n",
       "      <td>6580.0</td>\n",
       "      <td>70.0</td>\n",
       "    </tr>\n",
       "    <tr>\n",
       "      <th>6</th>\n",
       "      <td>180800.0</td>\n",
       "      <td>1725000.0</td>\n",
       "      <td>25.0</td>\n",
       "      <td>8200.0</td>\n",
       "      <td>75.0</td>\n",
       "    </tr>\n",
       "    <tr>\n",
       "      <th>7</th>\n",
       "      <td>175200.0</td>\n",
       "      <td>1725000.0</td>\n",
       "      <td>30.0</td>\n",
       "      <td>8600.0</td>\n",
       "      <td>75.0</td>\n",
       "    </tr>\n",
       "    <tr>\n",
       "      <th>8</th>\n",
       "      <td>174400.0</td>\n",
       "      <td>1720000.0</td>\n",
       "      <td>30.0</td>\n",
       "      <td>8800.0</td>\n",
       "      <td>75.0</td>\n",
       "    </tr>\n",
       "    <tr>\n",
       "      <th>9</th>\n",
       "      <td>173920.0</td>\n",
       "      <td>1705000.0</td>\n",
       "      <td>30.0</td>\n",
       "      <td>9200.0</td>\n",
       "      <td>80.0</td>\n",
       "    </tr>\n",
       "    <tr>\n",
       "      <th>10</th>\n",
       "      <td>172800.0</td>\n",
       "      <td>1710000.0</td>\n",
       "      <td>30.0</td>\n",
       "      <td>9630.0</td>\n",
       "      <td>80.0</td>\n",
       "    </tr>\n",
       "    <tr>\n",
       "      <th>11</th>\n",
       "      <td>163200.0</td>\n",
       "      <td>1700000.0</td>\n",
       "      <td>40.0</td>\n",
       "      <td>10570.0</td>\n",
       "      <td>80.0</td>\n",
       "    </tr>\n",
       "    <tr>\n",
       "      <th>12</th>\n",
       "      <td>161600.0</td>\n",
       "      <td>1695000.0</td>\n",
       "      <td>40.0</td>\n",
       "      <td>11330.0</td>\n",
       "      <td>85.0</td>\n",
       "    </tr>\n",
       "    <tr>\n",
       "      <th>13</th>\n",
       "      <td>161600.0</td>\n",
       "      <td>1695000.0</td>\n",
       "      <td>40.0</td>\n",
       "      <td>11600.0</td>\n",
       "      <td>100.0</td>\n",
       "    </tr>\n",
       "    <tr>\n",
       "      <th>14</th>\n",
       "      <td>160800.0</td>\n",
       "      <td>1690000.0</td>\n",
       "      <td>40.0</td>\n",
       "      <td>11800.0</td>\n",
       "      <td>105.0</td>\n",
       "    </tr>\n",
       "    <tr>\n",
       "      <th>15</th>\n",
       "      <td>159200.0</td>\n",
       "      <td>1630000.0</td>\n",
       "      <td>40.0</td>\n",
       "      <td>11830.0</td>\n",
       "      <td>105.0</td>\n",
       "    </tr>\n",
       "    <tr>\n",
       "      <th>16</th>\n",
       "      <td>148800.0</td>\n",
       "      <td>1640000.0</td>\n",
       "      <td>65.0</td>\n",
       "      <td>12650.0</td>\n",
       "      <td>105.0</td>\n",
       "    </tr>\n",
       "    <tr>\n",
       "      <th>17</th>\n",
       "      <td>115696.0</td>\n",
       "      <td>1635000.0</td>\n",
       "      <td>102.0</td>\n",
       "      <td>13000.0</td>\n",
       "      <td>110.0</td>\n",
       "    </tr>\n",
       "    <tr>\n",
       "      <th>18</th>\n",
       "      <td>147200.0</td>\n",
       "      <td>1630000.0</td>\n",
       "      <td>75.0</td>\n",
       "      <td>13224.0</td>\n",
       "      <td>125.0</td>\n",
       "    </tr>\n",
       "    <tr>\n",
       "      <th>19</th>\n",
       "      <td>150400.0</td>\n",
       "      <td>1620000.0</td>\n",
       "      <td>75.0</td>\n",
       "      <td>13766.0</td>\n",
       "      <td>130.0</td>\n",
       "    </tr>\n",
       "    <tr>\n",
       "      <th>20</th>\n",
       "      <td>152000.0</td>\n",
       "      <td>1615000.0</td>\n",
       "      <td>75.0</td>\n",
       "      <td>14010.0</td>\n",
       "      <td>150.0</td>\n",
       "    </tr>\n",
       "    <tr>\n",
       "      <th>21</th>\n",
       "      <td>136000.0</td>\n",
       "      <td>1605000.0</td>\n",
       "      <td>80.0</td>\n",
       "      <td>14468.0</td>\n",
       "      <td>155.0</td>\n",
       "    </tr>\n",
       "    <tr>\n",
       "      <th>22</th>\n",
       "      <td>126240.0</td>\n",
       "      <td>1590000.0</td>\n",
       "      <td>86.0</td>\n",
       "      <td>15000.0</td>\n",
       "      <td>165.0</td>\n",
       "    </tr>\n",
       "    <tr>\n",
       "      <th>23</th>\n",
       "      <td>123888.0</td>\n",
       "      <td>1595000.0</td>\n",
       "      <td>98.0</td>\n",
       "      <td>15200.0</td>\n",
       "      <td>175.0</td>\n",
       "    </tr>\n",
       "    <tr>\n",
       "      <th>24</th>\n",
       "      <td>126080.0</td>\n",
       "      <td>1590000.0</td>\n",
       "      <td>87.0</td>\n",
       "      <td>15600.0</td>\n",
       "      <td>175.0</td>\n",
       "    </tr>\n",
       "    <tr>\n",
       "      <th>25</th>\n",
       "      <td>151680.0</td>\n",
       "      <td>1600000.0</td>\n",
       "      <td>77.0</td>\n",
       "      <td>16000.0</td>\n",
       "      <td>190.0</td>\n",
       "    </tr>\n",
       "    <tr>\n",
       "      <th>26</th>\n",
       "      <td>152800.0</td>\n",
       "      <td>1610000.0</td>\n",
       "      <td>63.0</td>\n",
       "      <td>16200.0</td>\n",
       "      <td>200.0</td>\n",
       "    </tr>\n",
       "  </tbody>\n",
       "</table>\n",
       "</div>"
      ],
      "text/plain": [
       "      riders        pop  price   income  rates\n",
       "0   192000.0  1800000.0   15.0   5800.0   50.0\n",
       "1   190400.0  1790000.0   15.0   6200.0   50.0\n",
       "2   191200.0  1780000.0   15.0   6400.0   60.0\n",
       "3   177600.0  1778000.0   25.0   6500.0   60.0\n",
       "4   176800.0  1750000.0   25.0   6550.0   60.0\n",
       "5   178400.0  1740000.0   25.0   6580.0   70.0\n",
       "6   180800.0  1725000.0   25.0   8200.0   75.0\n",
       "7   175200.0  1725000.0   30.0   8600.0   75.0\n",
       "8   174400.0  1720000.0   30.0   8800.0   75.0\n",
       "9   173920.0  1705000.0   30.0   9200.0   80.0\n",
       "10  172800.0  1710000.0   30.0   9630.0   80.0\n",
       "11  163200.0  1700000.0   40.0  10570.0   80.0\n",
       "12  161600.0  1695000.0   40.0  11330.0   85.0\n",
       "13  161600.0  1695000.0   40.0  11600.0  100.0\n",
       "14  160800.0  1690000.0   40.0  11800.0  105.0\n",
       "15  159200.0  1630000.0   40.0  11830.0  105.0\n",
       "16  148800.0  1640000.0   65.0  12650.0  105.0\n",
       "17  115696.0  1635000.0  102.0  13000.0  110.0\n",
       "18  147200.0  1630000.0   75.0  13224.0  125.0\n",
       "19  150400.0  1620000.0   75.0  13766.0  130.0\n",
       "20  152000.0  1615000.0   75.0  14010.0  150.0\n",
       "21  136000.0  1605000.0   80.0  14468.0  155.0\n",
       "22  126240.0  1590000.0   86.0  15000.0  165.0\n",
       "23  123888.0  1595000.0   98.0  15200.0  175.0\n",
       "24  126080.0  1590000.0   87.0  15600.0  175.0\n",
       "25  151680.0  1600000.0   77.0  16000.0  190.0\n",
       "26  152800.0  1610000.0   63.0  16200.0  200.0"
      ]
     },
     "execution_count": 8,
     "metadata": {},
     "output_type": "execute_result"
    }
   ],
   "source": [
    "cols = ['riders','pop','price','income','rates']\n",
    "df[cols]=df[cols].replace({'\\$':'',',':''},regex=True)\n",
    "df[cols].astype(float)"
   ]
  },
  {
   "cell_type": "code",
   "execution_count": 9,
   "metadata": {},
   "outputs": [],
   "source": [
    "df =df.astype(float)"
   ]
  },
  {
   "cell_type": "code",
   "execution_count": 10,
   "metadata": {},
   "outputs": [
    {
     "name": "stdout",
     "output_type": "stream",
     "text": [
      "<class 'pandas.core.frame.DataFrame'>\n",
      "RangeIndex: 27 entries, 0 to 26\n",
      "Data columns (total 6 columns):\n",
      "City      27 non-null float64\n",
      "riders    27 non-null float64\n",
      "price     27 non-null float64\n",
      "pop       27 non-null float64\n",
      "income    27 non-null float64\n",
      "rates     27 non-null float64\n",
      "dtypes: float64(6)\n",
      "memory usage: 1.4 KB\n"
     ]
    }
   ],
   "source": [
    "df.info()"
   ]
  },
  {
   "cell_type": "code",
   "execution_count": 11,
   "metadata": {},
   "outputs": [
    {
     "name": "stdout",
     "output_type": "stream",
     "text": [
      "<class 'pandas.core.frame.DataFrame'>\n",
      "RangeIndex: 27 entries, 0 to 26\n",
      "Data columns (total 6 columns):\n",
      "City      27 non-null float64\n",
      "riders    27 non-null float64\n",
      "price     27 non-null float64\n",
      "pop       27 non-null float64\n",
      "income    27 non-null float64\n",
      "rates     27 non-null float64\n",
      "dtypes: float64(6)\n",
      "memory usage: 1.4 KB\n"
     ]
    }
   ],
   "source": [
    "df.info()\n",
    "    \n"
   ]
  },
  {
   "cell_type": "code",
   "execution_count": 12,
   "metadata": {},
   "outputs": [],
   "source": [
    "df.drop('City ',axis=1,inplace=True)"
   ]
  },
  {
   "cell_type": "code",
   "execution_count": 13,
   "metadata": {},
   "outputs": [
    {
     "data": {
      "text/html": [
       "<div>\n",
       "<style scoped>\n",
       "    .dataframe tbody tr th:only-of-type {\n",
       "        vertical-align: middle;\n",
       "    }\n",
       "\n",
       "    .dataframe tbody tr th {\n",
       "        vertical-align: top;\n",
       "    }\n",
       "\n",
       "    .dataframe thead th {\n",
       "        text-align: right;\n",
       "    }\n",
       "</style>\n",
       "<table border=\"1\" class=\"dataframe\">\n",
       "  <thead>\n",
       "    <tr style=\"text-align: right;\">\n",
       "      <th></th>\n",
       "      <th>riders</th>\n",
       "      <th>price</th>\n",
       "      <th>pop</th>\n",
       "      <th>income</th>\n",
       "      <th>rates</th>\n",
       "    </tr>\n",
       "  </thead>\n",
       "  <tbody>\n",
       "    <tr>\n",
       "      <th>0</th>\n",
       "      <td>192000.0</td>\n",
       "      <td>15.0</td>\n",
       "      <td>1800000.0</td>\n",
       "      <td>5800.0</td>\n",
       "      <td>50.0</td>\n",
       "    </tr>\n",
       "    <tr>\n",
       "      <th>1</th>\n",
       "      <td>190400.0</td>\n",
       "      <td>15.0</td>\n",
       "      <td>1790000.0</td>\n",
       "      <td>6200.0</td>\n",
       "      <td>50.0</td>\n",
       "    </tr>\n",
       "    <tr>\n",
       "      <th>2</th>\n",
       "      <td>191200.0</td>\n",
       "      <td>15.0</td>\n",
       "      <td>1780000.0</td>\n",
       "      <td>6400.0</td>\n",
       "      <td>60.0</td>\n",
       "    </tr>\n",
       "    <tr>\n",
       "      <th>3</th>\n",
       "      <td>177600.0</td>\n",
       "      <td>25.0</td>\n",
       "      <td>1778000.0</td>\n",
       "      <td>6500.0</td>\n",
       "      <td>60.0</td>\n",
       "    </tr>\n",
       "    <tr>\n",
       "      <th>4</th>\n",
       "      <td>176800.0</td>\n",
       "      <td>25.0</td>\n",
       "      <td>1750000.0</td>\n",
       "      <td>6550.0</td>\n",
       "      <td>60.0</td>\n",
       "    </tr>\n",
       "  </tbody>\n",
       "</table>\n",
       "</div>"
      ],
      "text/plain": [
       "     riders  price        pop  income  rates\n",
       "0  192000.0   15.0  1800000.0  5800.0   50.0\n",
       "1  190400.0   15.0  1790000.0  6200.0   50.0\n",
       "2  191200.0   15.0  1780000.0  6400.0   60.0\n",
       "3  177600.0   25.0  1778000.0  6500.0   60.0\n",
       "4  176800.0   25.0  1750000.0  6550.0   60.0"
      ]
     },
     "execution_count": 13,
     "metadata": {},
     "output_type": "execute_result"
    }
   ],
   "source": [
    "df.head()"
   ]
  },
  {
   "cell_type": "code",
   "execution_count": 14,
   "metadata": {},
   "outputs": [
    {
     "name": "stdout",
     "output_type": "stream",
     "text": [
      "<class 'pandas.core.frame.DataFrame'>\n",
      "RangeIndex: 27 entries, 0 to 26\n",
      "Data columns (total 5 columns):\n",
      "riders    27 non-null float64\n",
      "price     27 non-null float64\n",
      "pop       27 non-null float64\n",
      "income    27 non-null float64\n",
      "rates     27 non-null float64\n",
      "dtypes: float64(5)\n",
      "memory usage: 1.2 KB\n"
     ]
    }
   ],
   "source": [
    "df.info()"
   ]
  },
  {
   "cell_type": "markdown",
   "metadata": {},
   "source": [
    "## Descriptive Analysis"
   ]
  },
  {
   "cell_type": "code",
   "execution_count": 15,
   "metadata": {},
   "outputs": [
    {
     "data": {
      "text/html": [
       "<div>\n",
       "<style scoped>\n",
       "    .dataframe tbody tr th:only-of-type {\n",
       "        vertical-align: middle;\n",
       "    }\n",
       "\n",
       "    .dataframe tbody tr th {\n",
       "        vertical-align: top;\n",
       "    }\n",
       "\n",
       "    .dataframe thead th {\n",
       "        text-align: right;\n",
       "    }\n",
       "</style>\n",
       "<table border=\"1\" class=\"dataframe\">\n",
       "  <thead>\n",
       "    <tr style=\"text-align: right;\">\n",
       "      <th></th>\n",
       "      <th>riders</th>\n",
       "      <th>price</th>\n",
       "      <th>pop</th>\n",
       "      <th>income</th>\n",
       "      <th>rates</th>\n",
       "    </tr>\n",
       "  </thead>\n",
       "  <tbody>\n",
       "    <tr>\n",
       "      <th>count</th>\n",
       "      <td>27.000000</td>\n",
       "      <td>27.000000</td>\n",
       "      <td>2.700000e+01</td>\n",
       "      <td>27.000000</td>\n",
       "      <td>27.000000</td>\n",
       "    </tr>\n",
       "    <tr>\n",
       "      <th>mean</th>\n",
       "      <td>160026.074074</td>\n",
       "      <td>49.925926</td>\n",
       "      <td>1.680111e+06</td>\n",
       "      <td>11063.259259</td>\n",
       "      <td>107.037037</td>\n",
       "    </tr>\n",
       "    <tr>\n",
       "      <th>std</th>\n",
       "      <td>21301.097303</td>\n",
       "      <td>27.627921</td>\n",
       "      <td>6.780307e+04</td>\n",
       "      <td>3416.627944</td>\n",
       "      <td>45.346089</td>\n",
       "    </tr>\n",
       "    <tr>\n",
       "      <th>min</th>\n",
       "      <td>115696.000000</td>\n",
       "      <td>15.000000</td>\n",
       "      <td>1.590000e+06</td>\n",
       "      <td>5800.000000</td>\n",
       "      <td>50.000000</td>\n",
       "    </tr>\n",
       "    <tr>\n",
       "      <th>25%</th>\n",
       "      <td>149600.000000</td>\n",
       "      <td>27.500000</td>\n",
       "      <td>1.617500e+06</td>\n",
       "      <td>8400.000000</td>\n",
       "      <td>75.000000</td>\n",
       "    </tr>\n",
       "    <tr>\n",
       "      <th>50%</th>\n",
       "      <td>161600.000000</td>\n",
       "      <td>40.000000</td>\n",
       "      <td>1.695000e+06</td>\n",
       "      <td>11600.000000</td>\n",
       "      <td>100.000000</td>\n",
       "    </tr>\n",
       "    <tr>\n",
       "      <th>75%</th>\n",
       "      <td>176000.000000</td>\n",
       "      <td>75.000000</td>\n",
       "      <td>1.725000e+06</td>\n",
       "      <td>13888.000000</td>\n",
       "      <td>140.000000</td>\n",
       "    </tr>\n",
       "    <tr>\n",
       "      <th>max</th>\n",
       "      <td>192000.000000</td>\n",
       "      <td>102.000000</td>\n",
       "      <td>1.800000e+06</td>\n",
       "      <td>16200.000000</td>\n",
       "      <td>200.000000</td>\n",
       "    </tr>\n",
       "  </tbody>\n",
       "</table>\n",
       "</div>"
      ],
      "text/plain": [
       "              riders       price           pop        income       rates\n",
       "count      27.000000   27.000000  2.700000e+01     27.000000   27.000000\n",
       "mean   160026.074074   49.925926  1.680111e+06  11063.259259  107.037037\n",
       "std     21301.097303   27.627921  6.780307e+04   3416.627944   45.346089\n",
       "min    115696.000000   15.000000  1.590000e+06   5800.000000   50.000000\n",
       "25%    149600.000000   27.500000  1.617500e+06   8400.000000   75.000000\n",
       "50%    161600.000000   40.000000  1.695000e+06  11600.000000  100.000000\n",
       "75%    176000.000000   75.000000  1.725000e+06  13888.000000  140.000000\n",
       "max    192000.000000  102.000000  1.800000e+06  16200.000000  200.000000"
      ]
     },
     "execution_count": 15,
     "metadata": {},
     "output_type": "execute_result"
    }
   ],
   "source": [
    "stats = df.describe()\n",
    "stats"
   ]
  },
  {
   "cell_type": "markdown",
   "metadata": {},
   "source": [
    "## Exploratory Data Analysis"
   ]
  },
  {
   "cell_type": "code",
   "execution_count": 16,
   "metadata": {},
   "outputs": [
    {
     "data": {
      "text/plain": [
       "<Figure size 720x576 with 0 Axes>"
      ]
     },
     "metadata": {},
     "output_type": "display_data"
    },
    {
     "data": {
      "image/png": "[encoded data removed]",
      "text/plain": [
       "<Figure size 900x900 with 30 Axes>"
      ]
     },
     "metadata": {},
     "output_type": "display_data"
    }
   ],
   "source": [
    "fig = plt.figure(figsize=(10,8))\n",
    "sns.pairplot(df)\n",
    "plt.show()\n",
    "\n"
   ]
  },
  {
   "cell_type": "markdown",
   "metadata": {},
   "source": [
    "## Correlation"
   ]
  },
  {
   "cell_type": "code",
   "execution_count": 17,
   "metadata": {},
   "outputs": [
    {
     "data": {
      "image/png": "[encoded data removed]",
      "text/plain": [
       "<Figure size 720x576 with 2 Axes>"
      ]
     },
     "metadata": {},
     "output_type": "display_data"
    }
   ],
   "source": [
    "corr = df.corr()\n",
    "fig = plt.figure(figsize=(10,8))\n",
    "sns.heatmap(corr,annot=True,square=True,cmap='cubehelix',vmax=1)\n",
    "plt.show()"
   ]
  },
  {
   "cell_type": "markdown",
   "metadata": {},
   "source": [
    "## Model Selection"
   ]
  },
  {
   "cell_type": "code",
   "execution_count": 18,
   "metadata": {},
   "outputs": [],
   "source": [
    "from sklearn.model_selection import cross_val_score,train_test_split\n",
    "from sklearn.linear_model import LinearRegression,Lasso,Ridge"
   ]
  },
  {
   "cell_type": "markdown",
   "metadata": {},
   "source": [
    "### Extract the data"
   ]
  },
  {
   "cell_type": "code",
   "execution_count": 19,
   "metadata": {},
   "outputs": [],
   "source": [
    "\n",
    "X = df.drop(columns ='riders',axis=1)\n",
    "\n",
    "y =df['riders'].values.reshape(-1,1)"
   ]
  },
  {
   "cell_type": "code",
   "execution_count": 20,
   "metadata": {},
   "outputs": [
    {
     "name": "stdout",
     "output_type": "stream",
     "text": [
      "{'LR': -59086460.76294605, 'Lasso': -44630983.7657749, 'Ridge': -53780956.3482818}\n"
     ]
    }
   ],
   "source": [
    "models=LinearRegression(),Lasso(alpha=10000),Ridge(alpha=100)\n",
    "models_names = ['LR','Lasso','Ridge']\n",
    "scores={}\n",
    "for i,model in enumerate(models):\n",
    "    score=np.mean(cross_val_score(model,X,y,cv=5,scoring='neg_mean_squared_error'))\n",
    "    scores[models_names[i]]=score\n",
    "print(scores)"
   ]
  },
  {
   "cell_type": "markdown",
   "metadata": {},
   "source": [
    "## Model Tuning"
   ]
  },
  {
   "cell_type": "code",
   "execution_count": 21,
   "metadata": {},
   "outputs": [],
   "source": [
    "## Optimization of parameters for the model selected\n",
    "from sklearn.model_selection import GridSearchCV\n",
    "params ={'alpha':[0.0001,0.001,0.01,0.1,1,10,100,10000,100000]}\n"
   ]
  },
  {
   "cell_type": "code",
   "execution_count": 22,
   "metadata": {},
   "outputs": [],
   "source": [
    "gridsearch = GridSearchCV(Lasso(),params,cv=5,scoring='neg_mean_squared_error')"
   ]
  },
  {
   "cell_type": "code",
   "execution_count": 23,
   "metadata": {},
   "outputs": [
    {
     "name": "stderr",
     "output_type": "stream",
     "text": [
      "c:\\users\\sir kipchumba\\pycharmprojects\\firstpythonproject\\venv\\lib\\site-packages\\sklearn\\model_selection\\_search.py:814: DeprecationWarning: The default of the `iid` parameter will change from True to False in version 0.22 and will be removed in 0.24. This will change numeric results when test-set sizes are unequal.\n",
      "  DeprecationWarning)\n"
     ]
    },
    {
     "data": {
      "text/plain": [
       "GridSearchCV(cv=5, error_score='raise-deprecating',\n",
       "             estimator=Lasso(alpha=1.0, copy_X=True, fit_intercept=True,\n",
       "                             max_iter=1000, normalize=False, positive=False,\n",
       "                             precompute=False, random_state=None,\n",
       "                             selection='cyclic', tol=0.0001, warm_start=False),\n",
       "             iid='warn', n_jobs=None,\n",
       "             param_grid={'alpha': [0.0001, 0.001, 0.01, 0.1, 1, 10, 100, 10000,\n",
       "                                   100000]},\n",
       "             pre_dispatch='2*n_jobs', refit=True, return_train_score=False,\n",
       "             scoring='neg_mean_squared_error', verbose=0)"
      ]
     },
     "execution_count": 23,
     "metadata": {},
     "output_type": "execute_result"
    }
   ],
   "source": [
    "gridsearch.fit(X,y)"
   ]
  },
  {
   "cell_type": "code",
   "execution_count": 24,
   "metadata": {},
   "outputs": [
    {
     "data": {
      "text/plain": [
       "-41857629.24097573"
      ]
     },
     "execution_count": 24,
     "metadata": {},
     "output_type": "execute_result"
    }
   ],
   "source": [
    "\n",
    "gridsearch.best_score_"
   ]
  },
  {
   "cell_type": "markdown",
   "metadata": {},
   "source": [
    "## Model Training"
   ]
  },
  {
   "cell_type": "code",
   "execution_count": 25,
   "metadata": {},
   "outputs": [],
   "source": [
    "X_train,X_test,y_train,y_test= train_test_split(X,y,train_size=0.3,random_state=50)"
   ]
  },
  {
   "cell_type": "code",
   "execution_count": 26,
   "metadata": {},
   "outputs": [],
   "source": [
    "model=Lasso()\n",
    "model.fit(X_train,y_train)\n",
    "#Predict for y which will later be used for evaluation\n",
    "preds= model.predict(X_test)"
   ]
  },
  {
   "cell_type": "markdown",
   "metadata": {},
   "source": [
    "## Model Evaluation"
   ]
  },
  {
   "cell_type": "code",
   "execution_count": 27,
   "metadata": {},
   "outputs": [],
   "source": [
    "from sklearn.metrics import r2_score\n",
    "r2 =r2_score(y_test,preds)\n"
   ]
  },
  {
   "cell_type": "code",
   "execution_count": 28,
   "metadata": {},
   "outputs": [
    {
     "data": {
      "text/plain": [
       "0.8603222813112987"
      ]
     },
     "execution_count": 28,
     "metadata": {},
     "output_type": "execute_result"
    }
   ],
   "source": [
    "r2"
   ]
  },
  {
   "cell_type": "code",
   "execution_count": 29,
   "metadata": {},
   "outputs": [
    {
     "data": {
      "text/plain": [
       "array([28008.29614773])"
      ]
     },
     "execution_count": 29,
     "metadata": {},
     "output_type": "execute_result"
    }
   ],
   "source": [
    "model.intercept_"
   ]
  },
  {
   "cell_type": "code",
   "execution_count": 30,
   "metadata": {},
   "outputs": [
    {
     "data": {
      "text/plain": [
       "array([-4.33130830e+02,  9.71232194e-02, -9.53259968e-01, -5.09212149e+00])"
      ]
     },
     "execution_count": 30,
     "metadata": {},
     "output_type": "execute_result"
    }
   ],
   "source": [
    "model.coef_"
   ]
  },
  {
   "cell_type": "markdown",
   "metadata": {},
   "source": [
    "## Model"
   ]
  },
  {
   "cell_type": "code",
   "execution_count": 33,
   "metadata": {},
   "outputs": [
    {
     "data": {
      "text/plain": [
       "'y =28008-32(X1)+(X2)-4(X3)-5(X4)'"
      ]
     },
     "execution_count": 33,
     "metadata": {},
     "output_type": "execute_result"
    }
   ],
   "source": [
    "'''y =28008-32(X1)+(X2)-4(X3)-5(X4)''' "
   ]
  },
  {
   "cell_type": "code",
   "execution_count": null,
   "metadata": {},
   "outputs": [],
   "source": []
  }
 ],
 "metadata": {
  "kernelspec": {
   "display_name": "Python 3",
   "language": "python",
   "name": "python3"
  },
  "language_info": {
   "codemirror_mode": {
    "name": "ipython",
    "version": 3
   },
   "file_extension": ".py",
   "mimetype": "text/x-python",
   "name": "python",
   "nbconvert_exporter": "python",
   "pygments_lexer": "ipython3",
   "version": "3.7.4"
  }
 },
 "nbformat": 4,
 "nbformat_minor": 4
}
